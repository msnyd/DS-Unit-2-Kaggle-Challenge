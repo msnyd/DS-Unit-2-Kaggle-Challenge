{
 "cells": [
  {
   "cell_type": "markdown",
   "metadata": {},
   "source": [
    "Lambda School Data Science\n",
    "\n",
    "*Unit 2, Sprint 2, Module 3*\n",
    "\n",
    "---"
   ]
  },
  {
   "cell_type": "markdown",
   "metadata": {},
   "source": [
    "# Cross-Validation\n",
    "\n",
    "\n",
    "## Assignment\n",
    "- [ ] [Review requirements for your portfolio project](https://lambdaschool.github.io/ds/unit2), then submit your dataset.\n",
    "- [ ] Continue to participate in our Kaggle challenge. \n",
    "- [ ] Use scikit-learn for hyperparameter optimization with RandomizedSearchCV.\n",
    "- [ ] Submit your predictions to our Kaggle competition. (Go to our Kaggle InClass competition webpage. Use the blue **Submit Predictions** button to upload your CSV file. Or you can use the Kaggle API to submit your predictions.)\n",
    "- [ ] Commit your notebook to your fork of the GitHub repo.\n",
    "\n",
    "\n",
    "You won't be able to just copy from the lesson notebook to this assignment.\n",
    "\n",
    "- Because the lesson was ***regression***, but the assignment is ***classification.***\n",
    "- Because the lesson used [TargetEncoder](https://contrib.scikit-learn.org/categorical-encoding/targetencoder.html), which doesn't work as-is for _multi-class_ classification.\n",
    "\n",
    "So you will have to adapt the example, which is good real-world practice.\n",
    "\n",
    "1. Use a model for classification, such as [RandomForestClassifier](https://scikit-learn.org/stable/modules/generated/sklearn.ensemble.RandomForestClassifier.html)\n",
    "2. Use hyperparameters that match the classifier, such as `randomforestclassifier__ ...`\n",
    "3. Use a metric for classification, such as [`scoring='accuracy'`](https://scikit-learn.org/stable/modules/model_evaluation.html#common-cases-predefined-values)\n",
    "4. If you’re doing a multi-class classification problem — such as whether a waterpump is functional, functional needs repair, or nonfunctional — then use a categorical encoding that works for multi-class classification, such as [OrdinalEncoder](https://contrib.scikit-learn.org/categorical-encoding/ordinal.html) (not [TargetEncoder](https://contrib.scikit-learn.org/categorical-encoding/targetencoder.html))\n",
    "\n",
    "\n",
    "\n",
    "## Stretch Goals\n",
    "\n",
    "### Reading\n",
    "- Jake VanderPlas, [Python Data Science Handbook, Chapter 5.3](https://jakevdp.github.io/PythonDataScienceHandbook/05.03-hyperparameters-and-model-validation.html), Hyperparameters and Model Validation\n",
    "- Jake VanderPlas, [Statistics for Hackers](https://speakerdeck.com/jakevdp/statistics-for-hackers?slide=107)\n",
    "- Ron Zacharski, [A Programmer's Guide to Data Mining, Chapter 5](http://guidetodatamining.com/chapter5/), 10-fold cross validation\n",
    "- Sebastian Raschka, [A Basic Pipeline and Grid Search Setup](https://github.com/rasbt/python-machine-learning-book/blob/master/code/bonus/svm_iris_pipeline_and_gridsearch.ipynb)\n",
    "- Peter Worcester, [A Comparison of Grid Search and Randomized Search Using Scikit Learn](https://blog.usejournal.com/a-comparison-of-grid-search-and-randomized-search-using-scikit-learn-29823179bc85)\n",
    "\n",
    "### Doing\n",
    "- Add your own stretch goals!\n",
    "- Try other [categorical encodings](https://contrib.scikit-learn.org/categorical-encoding/). See the previous assignment notebook for details.\n",
    "- In additon to `RandomizedSearchCV`, scikit-learn has [`GridSearchCV`](https://scikit-learn.org/stable/modules/generated/sklearn.model_selection.GridSearchCV.html). Another library called scikit-optimize has [`BayesSearchCV`](https://scikit-optimize.github.io/notebooks/sklearn-gridsearchcv-replacement.html). Experiment with these alternatives.\n",
    "- _[Introduction to Machine Learning with Python](http://shop.oreilly.com/product/0636920030515.do)_ discusses options for \"Grid-Searching Which Model To Use\" in Chapter 6:\n",
    "\n",
    "> You can even go further in combining GridSearchCV and Pipeline: it is also possible to search over the actual steps being performed in the pipeline (say whether to use StandardScaler or MinMaxScaler). This leads to an even bigger search space and should be considered carefully. Trying all possible solutions is usually not a viable machine learning strategy. However, here is an example comparing a RandomForestClassifier and an SVC ...\n",
    "\n",
    "The example is shown in [the accompanying notebook](https://github.com/amueller/introduction_to_ml_with_python/blob/master/06-algorithm-chains-and-pipelines.ipynb), code cells 35-37. Could you apply this concept to your own pipelines?\n"
   ]
  },
  {
   "cell_type": "markdown",
   "metadata": {},
   "source": [
    "### BONUS: Stacking!\n",
    "\n",
    "Here's some code you can use to \"stack\" multiple submissions, which is another form of ensembling:\n",
    "\n",
    "```python\n",
    "import pandas as pd\n",
    "\n",
    "# Filenames of your submissions you want to ensemble\n",
    "files = ['submission-01.csv', 'submission-02.csv', 'submission-03.csv']\n",
    "\n",
    "target = 'status_group'\n",
    "submissions = (pd.read_csv(file)[[target]] for file in files)\n",
    "ensemble = pd.concat(submissions, axis='columns')\n",
    "majority_vote = ensemble.mode(axis='columns')[0]\n",
    "\n",
    "sample_submission = pd.read_csv('sample_submission.csv')\n",
    "submission = sample_submission.copy()\n",
    "submission[target] = majority_vote\n",
    "submission.to_csv('my-ultimate-ensemble-submission.csv', index=False)\n",
    "```"
   ]
  },
  {
   "cell_type": "code",
   "execution_count": 46,
   "metadata": {},
   "outputs": [],
   "source": [
    "%%capture\n",
    "import sys\n",
    "\n",
    "# If you're on Colab:\n",
    "if 'google.colab' in sys.modules:\n",
    "    DATA_PATH = 'https://raw.githubusercontent.com/LambdaSchool/DS-Unit-2-Kaggle-Challenge/master/data/'\n",
    "    !pip install category_encoders==2.*\n",
    "\n",
    "# If you're working locally:\n",
    "else:\n",
    "    DATA_PATH = '../data/'"
   ]
  },
  {
   "cell_type": "code",
   "execution_count": 47,
   "metadata": {},
   "outputs": [],
   "source": [
    "import pandas as pd\n",
    "import numpy as np\n",
    "from sklearn.model_selection import train_test_split\n",
    "\n",
    "\n",
    "# Merge train_features.csv & train_labels.csv\n",
    "train = pd.merge(pd.read_csv(DATA_PATH+'waterpumps/train_features.csv'), \n",
    "                 pd.read_csv(DATA_PATH+'waterpumps/train_labels.csv'))\n",
    "\n",
    "# Read test_features.csv & sample_submission.csv\n",
    "test = pd.read_csv(DATA_PATH+'waterpumps/test_features.csv')\n",
    "sample_submission = pd.read_csv(DATA_PATH+'waterpumps/sample_submission.csv')\n",
    "train, val = train_test_split(train, train_size=0.80, test_size=0.20, \n",
    "                              stratify=train['status_group'], random_state=42)\n",
    ""
   ]
  },
  {
   "cell_type": "code",
   "execution_count": 48,
   "metadata": {},
   "outputs": [],
   "source": [
    "def wrangle(X):\n",
    "    \"\"\"Wrangle train, validate, and test sets in the same way\"\"\"\n",
    "    \n",
    "    # Prevent SettingWithCopyWarning\n",
    "    X = X.copy()\n",
    "    \n",
    "    # About 3% of the time, latitude has small values near zero,\n",
    "    # outside Tanzania, so we'll treat these values like zero.\n",
    "    X['latitude'] = X['latitude'].replace(-2e-08, 0)\n",
    "    \n",
    "    # When columns have zeros and shouldn't, they are like null values.\n",
    "    # So we will replace the zeros with nulls, and impute missing values later.\n",
    "    # Also create a \"missing indicator\" column, because the fact that\n",
    "    # values are missing may be a predictive signal.\n",
    "    cols_with_zeros = ['longitude', 'latitude', 'construction_year', \n",
    "                       'gps_height', 'population']\n",
    "    for col in cols_with_zeros:\n",
    "        X[col] = X[col].replace(0, np.nan)\n",
    "        X[col+'_MISSING'] = X[col].isnull()\n",
    "            \n",
    "    # Drop duplicate columns\n",
    "    duplicates = ['quantity_group', 'payment_type']\n",
    "    X = X.drop(columns=duplicates)\n",
    "    \n",
    "    # Drop recorded_by (never varies) and id (always varies, random)\n",
    "    unusable_variance = ['recorded_by', 'id']\n",
    "    X = X.drop(columns=unusable_variance)\n",
    "    \n",
    "    # Convert date_recorded to datetime\n",
    "    X['date_recorded'] = pd.to_datetime(X['date_recorded'], infer_datetime_format=True)\n",
    "    \n",
    "    # Extract components from date_recorded, then drop the original column\n",
    "    X['year_recorded'] = X['date_recorded'].dt.year\n",
    "    X['month_recorded'] = X['date_recorded'].dt.month\n",
    "    X['day_recorded'] = X['date_recorded'].dt.day\n",
    "    X = X.drop(columns='date_recorded')\n",
    "    \n",
    "    # Engineer feature: how many years from construction_year to date_recorded\n",
    "    X['years'] = X['year_recorded'] - X['construction_year']\n",
    "    X['years_MISSING'] = X['years'].isnull()\n",
    "    \n",
    "    # return the wrangled dataframe\n",
    "    return X"
   ]
  },
  {
   "cell_type": "code",
   "execution_count": 49,
   "metadata": {},
   "outputs": [],
   "source": [
    "train = wrangle(train)\n",
    "val = wrangle(val)\n",
    "test = wrangle(test)"
   ]
  },
  {
   "cell_type": "code",
   "execution_count": 50,
   "metadata": {},
   "outputs": [],
   "source": [
    "target = 'status_group'\n",
    "\n",
    "train_features = train.drop(columns=[target])\n",
    "\n",
    "numeric_features = train_features.select_dtypes(include='number').columns.tolist()\n",
    "\n",
    "cardinality = train_features.select_dtypes(exclude='number').nunique()\n",
    "\n",
    "categorical_features = cardinality[cardinality <= 50].index.tolist()\n",
    "\n",
    "features = numeric_features + categorical_features"
   ]
  },
  {
   "cell_type": "code",
   "execution_count": 51,
   "metadata": {},
   "outputs": [],
   "source": [
    "x_train = train[features]\n",
    "y_train = train[target]\n",
    "x_val = val[features]\n",
    "y_val = val[target]\n",
    "x_test = test[features]"
   ]
  },
  {
   "cell_type": "code",
   "execution_count": 63,
   "metadata": {},
   "outputs": [],
   "source": [
    "import category_encoders as ce\n",
    "import numpy as np\n",
    "from sklearn.feature_selection import f_classif, SelectKBest\n",
    "from sklearn.impute import SimpleImputer\n",
    "from sklearn.ensemble import RandomForestClassifier\n",
    "from sklearn.model_selection import cross_val_score\n",
    "from sklearn.pipeline import make_pipeline\n",
    "from sklearn.preprocessing import StandardScaler\n",
    "\n",
    "\n",
    "\n",
    "pipeline = make_pipeline(\n",
    "    ce.OneHotEncoder(use_cat_names=True), \n",
    "    SimpleImputer(strategy='mean'), \n",
    "    StandardScaler(), \n",
    "    SelectKBest(f_classif, k=20), \n",
    "    RandomForestClassifier(n_jobs=-1, random_state=1)\n",
    ")\n",
    "\n",
    "k = 3\n",
    "scores = cross_val_score(pipeline, x_train, y_train, cv=k)"
   ]
  },
  {
   "cell_type": "code",
   "execution_count": 0,
   "metadata": {},
   "outputs": [],
   "source": [
    "print(f'MAE for {k} folds:', -scores)"
   ]
  },
  {
   "cell_type": "code",
   "execution_count": 74,
   "metadata": {},
   "outputs": [
    {
     "name": "stderr",
     "output_type": "stream",
     "text": "C:\\Users\\Matt\\Anaconda3\\lib\\site-packages\\sklearn\\model_selection\\_search.py:281: UserWarning: The total space of parameters 76 is smaller than n_iter=100. Running 76 iterations. For exhaustive searches, use GridSearchCV.\n  % (grid_size, self.n_iter, grid_size), UserWarning)\n[Parallel(n_jobs=-1)]: Using backend LokyBackend with 8 concurrent workers.\nFitting 5 folds for each of 76 candidates, totalling 380 fits\n[Parallel(n_jobs=-1)]: Done   2 tasks      | elapsed:    6.6s\n[Parallel(n_jobs=-1)]: Done   9 tasks      | elapsed:   10.7s\n[Parallel(n_jobs=-1)]: Done  16 tasks      | elapsed:   11.9s\n[Parallel(n_jobs=-1)]: Done  25 tasks      | elapsed:   19.6s\n[Parallel(n_jobs=-1)]: Done  34 tasks      | elapsed:   26.7s\n[Parallel(n_jobs=-1)]: Done  45 tasks      | elapsed:   34.3s\n[Parallel(n_jobs=-1)]: Done  56 tasks      | elapsed:   42.7s\n[Parallel(n_jobs=-1)]: Done  69 tasks      | elapsed:   54.8s\n[Parallel(n_jobs=-1)]: Done  82 tasks      | elapsed:  1.2min\n[Parallel(n_jobs=-1)]: Done  97 tasks      | elapsed:  1.4min\n[Parallel(n_jobs=-1)]: Done 112 tasks      | elapsed:  1.7min\n[Parallel(n_jobs=-1)]: Done 129 tasks      | elapsed:  2.1min\n[Parallel(n_jobs=-1)]: Done 146 tasks      | elapsed:  2.5min\n[Parallel(n_jobs=-1)]: Done 165 tasks      | elapsed:  3.0min\n[Parallel(n_jobs=-1)]: Done 184 tasks      | elapsed:  3.5min\n[Parallel(n_jobs=-1)]: Done 205 tasks      | elapsed:  4.1min\n[Parallel(n_jobs=-1)]: Done 226 tasks      | elapsed:  4.7min\n[Parallel(n_jobs=-1)]: Done 249 tasks      | elapsed:  5.4min\n[Parallel(n_jobs=-1)]: Done 272 tasks      | elapsed:  6.0min\n[Parallel(n_jobs=-1)]: Done 297 tasks      | elapsed:  6.8min\n[Parallel(n_jobs=-1)]: Done 322 tasks      | elapsed:  7.5min\n[Parallel(n_jobs=-1)]: Done 349 tasks      | elapsed:  8.3min\n[Parallel(n_jobs=-1)]: Done 380 out of 380 | elapsed:  9.3min finished\n"
    }
   ],
   "source": [
    "from sklearn.model_selection import GridSearchCV, RandomizedSearchCV\n",
    "\n",
    "pipeline = make_pipeline(\n",
    "    ce.OrdinalEncoder(), \n",
    "    SimpleImputer(), \n",
    "    StandardScaler(), \n",
    "    SelectKBest(f_classif), \n",
    "    RandomForestClassifier()\n",
    ")\n",
    "\n",
    "param_distributions = {\n",
    "    'simpleimputer__strategy': ['mean', 'median'], \n",
    "    'selectkbest__k': range(1, len(x_train.columns)+1), \n",
    "}\n",
    "\n",
    "# If you're on Colab, decrease n_iter & cv parameters\n",
    "search = RandomizedSearchCV(\n",
    "    pipeline, \n",
    "    param_distributions=param_distributions, \n",
    "    n_iter=100, \n",
    "    cv=5, \n",
    "    verbose=10, \n",
    "    return_train_score=True, \n",
    "    n_jobs=-1\n",
    ")\n",
    "\n",
    "search.fit(x_train, y_train);"
   ]
  },
  {
   "cell_type": "code",
   "execution_count": 75,
   "metadata": {},
   "outputs": [
    {
     "name": "stdout",
     "output_type": "stream",
     "text": "Best hyperparameters {'simpleimputer__strategy': 'mean', 'selectkbest__k': 37}\nCross-validation MAE -0.7977483164983166\n"
    }
   ],
   "source": [
    "print('Best hyperparameters', search.best_params_)\n",
    "print('Cross-validation MAE', -search.best_score_)"
   ]
  },
  {
   "cell_type": "code",
   "execution_count": 67,
   "metadata": {},
   "outputs": [
    {
     "data": {
      "text/html": "<div>\n<style scoped>\n    .dataframe tbody tr th:only-of-type {\n        vertical-align: middle;\n    }\n\n    .dataframe tbody tr th {\n        vertical-align: top;\n    }\n\n    .dataframe thead th {\n        text-align: right;\n    }\n</style>\n<table border=\"1\" class=\"dataframe\">\n  <thead>\n    <tr style=\"text-align: right;\">\n      <th></th>\n      <th>74</th>\n      <th>75</th>\n      <th>73</th>\n      <th>72</th>\n      <th>70</th>\n      <th>71</th>\n      <th>68</th>\n      <th>66</th>\n      <th>67</th>\n      <th>69</th>\n      <th>...</th>\n      <th>8</th>\n      <th>7</th>\n      <th>6</th>\n      <th>13</th>\n      <th>5</th>\n      <th>4</th>\n      <th>3</th>\n      <th>2</th>\n      <th>1</th>\n      <th>0</th>\n    </tr>\n  </thead>\n  <tbody>\n    <tr>\n      <th>mean_fit_time</th>\n      <td>19.5138</td>\n      <td>18.3616</td>\n      <td>20.4151</td>\n      <td>20.0603</td>\n      <td>18.6026</td>\n      <td>19.6108</td>\n      <td>17.9182</td>\n      <td>18.6676</td>\n      <td>19.02</td>\n      <td>18.9139</td>\n      <td>...</td>\n      <td>11.3556</td>\n      <td>13.2141</td>\n      <td>11.8886</td>\n      <td>12.3264</td>\n      <td>12.8884</td>\n      <td>11.704</td>\n      <td>12.6447</td>\n      <td>11.7102</td>\n      <td>12.9379</td>\n      <td>12.527</td>\n    </tr>\n    <tr>\n      <th>std_fit_time</th>\n      <td>0.507671</td>\n      <td>1.81252</td>\n      <td>0.592076</td>\n      <td>0.320672</td>\n      <td>0.182199</td>\n      <td>0.255776</td>\n      <td>0.352903</td>\n      <td>0.177678</td>\n      <td>0.373476</td>\n      <td>0.20939</td>\n      <td>...</td>\n      <td>0.198063</td>\n      <td>0.289719</td>\n      <td>0.360701</td>\n      <td>0.214923</td>\n      <td>0.181367</td>\n      <td>0.205111</td>\n      <td>0.247083</td>\n      <td>0.146178</td>\n      <td>0.336348</td>\n      <td>0.165331</td>\n    </tr>\n    <tr>\n      <th>mean_score_time</th>\n      <td>1.63503</td>\n      <td>1.08645</td>\n      <td>1.58638</td>\n      <td>1.51717</td>\n      <td>1.50813</td>\n      <td>1.50412</td>\n      <td>1.54279</td>\n      <td>1.57406</td>\n      <td>1.4786</td>\n      <td>1.51608</td>\n      <td>...</td>\n      <td>1.18264</td>\n      <td>1.37596</td>\n      <td>1.22134</td>\n      <td>1.15432</td>\n      <td>1.28896</td>\n      <td>1.27526</td>\n      <td>1.39683</td>\n      <td>1.21527</td>\n      <td>1.22314</td>\n      <td>1.20189</td>\n    </tr>\n    <tr>\n      <th>std_score_time</th>\n      <td>0.210274</td>\n      <td>0.122132</td>\n      <td>0.0859009</td>\n      <td>0.0662348</td>\n      <td>0.079243</td>\n      <td>0.0831046</td>\n      <td>0.065289</td>\n      <td>0.0737521</td>\n      <td>0.0803529</td>\n      <td>0.0301197</td>\n      <td>...</td>\n      <td>0.0284862</td>\n      <td>0.114673</td>\n      <td>0.0526808</td>\n      <td>0.0865089</td>\n      <td>0.100439</td>\n      <td>0.130678</td>\n      <td>0.0852344</td>\n      <td>0.0312986</td>\n      <td>0.0473277</td>\n      <td>0.0524388</td>\n    </tr>\n    <tr>\n      <th>param_simpleimputer__strategy</th>\n      <td>mean</td>\n      <td>median</td>\n      <td>median</td>\n      <td>mean</td>\n      <td>mean</td>\n      <td>median</td>\n      <td>mean</td>\n      <td>mean</td>\n      <td>median</td>\n      <td>median</td>\n      <td>...</td>\n      <td>mean</td>\n      <td>median</td>\n      <td>mean</td>\n      <td>median</td>\n      <td>median</td>\n      <td>mean</td>\n      <td>median</td>\n      <td>mean</td>\n      <td>median</td>\n      <td>mean</td>\n    </tr>\n    <tr>\n      <th>param_selectkbest__k</th>\n      <td>38</td>\n      <td>38</td>\n      <td>37</td>\n      <td>37</td>\n      <td>36</td>\n      <td>36</td>\n      <td>35</td>\n      <td>34</td>\n      <td>34</td>\n      <td>35</td>\n      <td>...</td>\n      <td>5</td>\n      <td>4</td>\n      <td>4</td>\n      <td>7</td>\n      <td>3</td>\n      <td>3</td>\n      <td>2</td>\n      <td>2</td>\n      <td>1</td>\n      <td>1</td>\n    </tr>\n    <tr>\n      <th>params</th>\n      <td>{'simpleimputer__strategy': 'mean', 'selectkbe...</td>\n      <td>{'simpleimputer__strategy': 'median', 'selectk...</td>\n      <td>{'simpleimputer__strategy': 'median', 'selectk...</td>\n      <td>{'simpleimputer__strategy': 'mean', 'selectkbe...</td>\n      <td>{'simpleimputer__strategy': 'mean', 'selectkbe...</td>\n      <td>{'simpleimputer__strategy': 'median', 'selectk...</td>\n      <td>{'simpleimputer__strategy': 'mean', 'selectkbe...</td>\n      <td>{'simpleimputer__strategy': 'mean', 'selectkbe...</td>\n      <td>{'simpleimputer__strategy': 'median', 'selectk...</td>\n      <td>{'simpleimputer__strategy': 'median', 'selectk...</td>\n      <td>...</td>\n      <td>{'simpleimputer__strategy': 'mean', 'selectkbe...</td>\n      <td>{'simpleimputer__strategy': 'median', 'selectk...</td>\n      <td>{'simpleimputer__strategy': 'mean', 'selectkbe...</td>\n      <td>{'simpleimputer__strategy': 'median', 'selectk...</td>\n      <td>{'simpleimputer__strategy': 'median', 'selectk...</td>\n      <td>{'simpleimputer__strategy': 'mean', 'selectkbe...</td>\n      <td>{'simpleimputer__strategy': 'median', 'selectk...</td>\n      <td>{'simpleimputer__strategy': 'mean', 'selectkbe...</td>\n      <td>{'simpleimputer__strategy': 'median', 'selectk...</td>\n      <td>{'simpleimputer__strategy': 'mean', 'selectkbe...</td>\n    </tr>\n    <tr>\n      <th>split0_test_score</th>\n      <td>0.753788</td>\n      <td>0.752525</td>\n      <td>0.753998</td>\n      <td>0.753998</td>\n      <td>0.753577</td>\n      <td>0.751789</td>\n      <td>0.754945</td>\n      <td>0.754524</td>\n      <td>0.75484</td>\n      <td>0.75242</td>\n      <td>...</td>\n      <td>0.700231</td>\n      <td>0.700231</td>\n      <td>0.700231</td>\n      <td>0.700231</td>\n      <td>0.698548</td>\n      <td>0.698548</td>\n      <td>0.698548</td>\n      <td>0.698548</td>\n      <td>0.644781</td>\n      <td>0.644781</td>\n    </tr>\n    <tr>\n      <th>split1_test_score</th>\n      <td>0.763363</td>\n      <td>0.763468</td>\n      <td>0.762626</td>\n      <td>0.760838</td>\n      <td>0.761258</td>\n      <td>0.761785</td>\n      <td>0.75968</td>\n      <td>0.760943</td>\n      <td>0.761469</td>\n      <td>0.760311</td>\n      <td>...</td>\n      <td>0.691393</td>\n      <td>0.691393</td>\n      <td>0.691393</td>\n      <td>0.691393</td>\n      <td>0.692024</td>\n      <td>0.692024</td>\n      <td>0.692024</td>\n      <td>0.692024</td>\n      <td>0.637731</td>\n      <td>0.637731</td>\n    </tr>\n    <tr>\n      <th>split2_test_score</th>\n      <td>0.763152</td>\n      <td>0.762416</td>\n      <td>0.76189</td>\n      <td>0.761574</td>\n      <td>0.75968</td>\n      <td>0.761574</td>\n      <td>0.758312</td>\n      <td>0.760206</td>\n      <td>0.759364</td>\n      <td>0.759049</td>\n      <td>...</td>\n      <td>0.698758</td>\n      <td>0.698758</td>\n      <td>0.698758</td>\n      <td>0.698758</td>\n      <td>0.695812</td>\n      <td>0.695812</td>\n      <td>0.695812</td>\n      <td>0.695812</td>\n      <td>0.640993</td>\n      <td>0.640993</td>\n    </tr>\n    <tr>\n      <th>split3_test_score</th>\n      <td>0.764205</td>\n      <td>0.763363</td>\n      <td>0.756313</td>\n      <td>0.755577</td>\n      <td>0.755366</td>\n      <td>0.753157</td>\n      <td>0.753577</td>\n      <td>0.751684</td>\n      <td>0.75242</td>\n      <td>0.753262</td>\n      <td>...</td>\n      <td>0.694024</td>\n      <td>0.694024</td>\n      <td>0.694024</td>\n      <td>0.694024</td>\n      <td>0.691709</td>\n      <td>0.691709</td>\n      <td>0.691709</td>\n      <td>0.691709</td>\n      <td>0.639099</td>\n      <td>0.639099</td>\n    </tr>\n    <tr>\n      <th>split4_test_score</th>\n      <td>0.754945</td>\n      <td>0.754735</td>\n      <td>0.75463</td>\n      <td>0.753788</td>\n      <td>0.755051</td>\n      <td>0.754419</td>\n      <td>0.754524</td>\n      <td>0.752946</td>\n      <td>0.751999</td>\n      <td>0.753472</td>\n      <td>...</td>\n      <td>0.690867</td>\n      <td>0.690867</td>\n      <td>0.690867</td>\n      <td>0.690867</td>\n      <td>0.688026</td>\n      <td>0.688026</td>\n      <td>0.688026</td>\n      <td>0.688026</td>\n      <td>0.640362</td>\n      <td>0.640362</td>\n    </tr>\n    <tr>\n      <th>mean_test_score</th>\n      <td>0.759891</td>\n      <td>0.759301</td>\n      <td>0.757891</td>\n      <td>0.757155</td>\n      <td>0.756987</td>\n      <td>0.756545</td>\n      <td>0.756208</td>\n      <td>0.756061</td>\n      <td>0.756019</td>\n      <td>0.755703</td>\n      <td>...</td>\n      <td>0.695055</td>\n      <td>0.695055</td>\n      <td>0.695055</td>\n      <td>0.695055</td>\n      <td>0.693224</td>\n      <td>0.693224</td>\n      <td>0.693224</td>\n      <td>0.693224</td>\n      <td>0.640593</td>\n      <td>0.640593</td>\n    </tr>\n    <tr>\n      <th>std_test_score</th>\n      <td>0.00453882</td>\n      <td>0.00469734</td>\n      <td>0.00365217</td>\n      <td>0.00337292</td>\n      <td>0.00294958</td>\n      <td>0.00427474</td>\n      <td>0.00235934</td>\n      <td>0.00380107</td>\n      <td>0.00377875</td>\n      <td>0.00329078</td>\n      <td>...</td>\n      <td>0.00380852</td>\n      <td>0.00380852</td>\n      <td>0.00380852</td>\n      <td>0.00380852</td>\n      <td>0.00362759</td>\n      <td>0.00362759</td>\n      <td>0.00362759</td>\n      <td>0.00362759</td>\n      <td>0.00237375</td>\n      <td>0.00237375</td>\n    </tr>\n    <tr>\n      <th>rank_test_score</th>\n      <td>1</td>\n      <td>2</td>\n      <td>3</td>\n      <td>4</td>\n      <td>5</td>\n      <td>6</td>\n      <td>7</td>\n      <td>8</td>\n      <td>9</td>\n      <td>10</td>\n      <td>...</td>\n      <td>63</td>\n      <td>63</td>\n      <td>63</td>\n      <td>63</td>\n      <td>71</td>\n      <td>71</td>\n      <td>71</td>\n      <td>71</td>\n      <td>75</td>\n      <td>75</td>\n    </tr>\n    <tr>\n      <th>split0_train_score</th>\n      <td>0.915956</td>\n      <td>0.915956</td>\n      <td>0.916009</td>\n      <td>0.916062</td>\n      <td>0.916009</td>\n      <td>0.915956</td>\n      <td>0.916035</td>\n      <td>0.914536</td>\n      <td>0.914562</td>\n      <td>0.915983</td>\n      <td>...</td>\n      <td>0.693761</td>\n      <td>0.693761</td>\n      <td>0.693761</td>\n      <td>0.693761</td>\n      <td>0.691893</td>\n      <td>0.691893</td>\n      <td>0.691893</td>\n      <td>0.691893</td>\n      <td>0.639547</td>\n      <td>0.639547</td>\n    </tr>\n    <tr>\n      <th>split1_train_score</th>\n      <td>0.916982</td>\n      <td>0.916956</td>\n      <td>0.915036</td>\n      <td>0.915036</td>\n      <td>0.914746</td>\n      <td>0.914773</td>\n      <td>0.914115</td>\n      <td>0.914168</td>\n      <td>0.914115</td>\n      <td>0.914115</td>\n      <td>...</td>\n      <td>0.69597</td>\n      <td>0.69597</td>\n      <td>0.69597</td>\n      <td>0.69597</td>\n      <td>0.693524</td>\n      <td>0.693524</td>\n      <td>0.693524</td>\n      <td>0.693524</td>\n      <td>0.641309</td>\n      <td>0.641309</td>\n    </tr>\n    <tr>\n      <th>split2_train_score</th>\n      <td>0.918087</td>\n      <td>0.918113</td>\n      <td>0.916167</td>\n      <td>0.916219</td>\n      <td>0.916035</td>\n      <td>0.916114</td>\n      <td>0.916062</td>\n      <td>0.916088</td>\n      <td>0.916114</td>\n      <td>0.915983</td>\n      <td>...</td>\n      <td>0.694129</td>\n      <td>0.694129</td>\n      <td>0.694129</td>\n      <td>0.694129</td>\n      <td>0.692577</td>\n      <td>0.692577</td>\n      <td>0.692577</td>\n      <td>0.692577</td>\n      <td>0.640493</td>\n      <td>0.640493</td>\n    </tr>\n    <tr>\n      <th>split3_train_score</th>\n      <td>0.916746</td>\n      <td>0.916719</td>\n      <td>0.910827</td>\n      <td>0.910853</td>\n      <td>0.908591</td>\n      <td>0.908512</td>\n      <td>0.908565</td>\n      <td>0.907565</td>\n      <td>0.907565</td>\n      <td>0.908486</td>\n      <td>...</td>\n      <td>0.695312</td>\n      <td>0.695312</td>\n      <td>0.695312</td>\n      <td>0.695312</td>\n      <td>0.693603</td>\n      <td>0.693603</td>\n      <td>0.693603</td>\n      <td>0.693603</td>\n      <td>0.640967</td>\n      <td>0.640967</td>\n    </tr>\n    <tr>\n      <th>split4_train_score</th>\n      <td>0.915457</td>\n      <td>0.915404</td>\n      <td>0.915483</td>\n      <td>0.915483</td>\n      <td>0.91522</td>\n      <td>0.915351</td>\n      <td>0.915378</td>\n      <td>0.914852</td>\n      <td>0.914852</td>\n      <td>0.915351</td>\n      <td>...</td>\n      <td>0.696102</td>\n      <td>0.696102</td>\n      <td>0.696102</td>\n      <td>0.696102</td>\n      <td>0.694523</td>\n      <td>0.694523</td>\n      <td>0.694523</td>\n      <td>0.694523</td>\n      <td>0.640651</td>\n      <td>0.640651</td>\n    </tr>\n    <tr>\n      <th>mean_train_score</th>\n      <td>0.916646</td>\n      <td>0.91663</td>\n      <td>0.914704</td>\n      <td>0.914731</td>\n      <td>0.91412</td>\n      <td>0.914141</td>\n      <td>0.914031</td>\n      <td>0.913442</td>\n      <td>0.913442</td>\n      <td>0.913984</td>\n      <td>...</td>\n      <td>0.695055</td>\n      <td>0.695055</td>\n      <td>0.695055</td>\n      <td>0.695055</td>\n      <td>0.693224</td>\n      <td>0.693224</td>\n      <td>0.693224</td>\n      <td>0.693224</td>\n      <td>0.640593</td>\n      <td>0.640593</td>\n    </tr>\n    <tr>\n      <th>std_train_score</th>\n      <td>0.000904423</td>\n      <td>0.00092428</td>\n      <td>0.00197944</td>\n      <td>0.00198398</td>\n      <td>0.00280741</td>\n      <td>0.00285437</td>\n      <td>0.0028228</td>\n      <td>0.00300826</td>\n      <td>0.00301239</td>\n      <td>0.00283218</td>\n      <td>...</td>\n      <td>0.000952129</td>\n      <td>0.000952129</td>\n      <td>0.000952129</td>\n      <td>0.000952129</td>\n      <td>0.000906899</td>\n      <td>0.000906899</td>\n      <td>0.000906899</td>\n      <td>0.000906899</td>\n      <td>0.000593438</td>\n      <td>0.000593438</td>\n    </tr>\n  </tbody>\n</table>\n<p>22 rows × 76 columns</p>\n</div>",
      "text/plain": "puter__strategy  ...   \nparam_selectkbest__k           ...   \nparams                         ...   \nsplit0_test_score              ...   \nsplit1_test_score              ...   \nsplit2_test_score              ...   \nsplit3_test_score              ...   \nsplit4_test_score              ...   \nmean_test_score                ...   \nstd_test_score                 ...   \nrank_test_score                ...   \nsplit0_train_score             ...   \nsplit1_train_score             ...   \nsplit2_train_score             ...   \nsplit3_train_score             ...   \nsplit4_train_score             ...   \nmean_train_score               ...   \nstd_train_score                ...   \n\n                                                                              8   \\\nmean_fit_time                                                            11.3556   \nstd_fit_time                                                            0.198063   \nmean_score_time                                                          1.18264   \nstd_score_time                                                         0.0284862   \nparam_simpleimputer__strategy                                               mean   \nparam_selectkbest__k                                                           5   \nparams                         {'simpleimputer__strategy': 'mean', 'selectkbe...   \nsplit0_test_score                                                       0.700231   \nsplit1_test_score                                                       0.691393   \nsplit2_test_score                                                       0.698758   \nsplit3_test_score                                                       0.694024   \nsplit4_test_score                                                       0.690867   \nmean_test_score                                                         0.695055   \nstd_test_score                                                        0.00380852   \nrank_test_score                                                               63   \nsplit0_train_score                                                      0.693761   \nsplit1_train_score                                                       0.69597   \nsplit2_train_score                                                      0.694129   \nsplit3_train_score                                                      0.695312   \nsplit4_train_score                                                      0.696102   \nmean_train_score                                                        0.695055   \nstd_train_score                                                      0.000952129   \n\n                                                                              7   \\\nmean_fit_time                                                            13.2141   \nstd_fit_time                                                            0.289719   \nmean_score_time                                                          1.37596   \nstd_score_time                                                          0.114673   \nparam_simpleimputer__strategy                                             median   \nparam_selectkbest__k                                                           4   \nparams                         {'simpleimputer__strategy': 'median', 'selectk...   \nsplit0_test_score                                                       0.700231   \nsplit1_test_score                                                       0.691393   \nsplit2_test_score                                                       0.698758   \nsplit3_test_score                                                       0.694024   \nsplit4_test_score                                                       0.690867   \nmean_test_score                                                         0.695055   \nstd_test_score                                                        0.00380852   \nrank_test_score                                                               63   \nsplit0_train_score                                                      0.693761   \nsplit1_train_score                                                       0.69597   \nsplit2_train_score                                                      0.694129   \nsplit3_train_score                                                      0.695312   \nsplit4_train_score                                                      0.696102   \nmean_train_score                                                        0.695055   \nstd_train_score                                                      0.000952129   \n\n                                                                              6   \\\nmean_fit_time                                                            11.8886   \nstd_fit_time                                                            0.360701   \nmean_score_time                                                          1.22134   \nstd_score_time                                                         0.0526808   \nparam_simpleimputer__strategy                                               mean   \nparam_selectkbest__k                                                           4   \nparams                         {'simpleimputer__strategy': 'mean', 'selectkbe...   \nsplit0_test_score                                                       0.700231   \nsplit1_test_score                                                       0.691393   \nsplit2_test_score                                                       0.698758   \nsplit3_test_score                                                       0.694024   \nsplit4_test_score                                                       0.690867   \nmean_test_score                                                         0.695055   \nstd_test_score                                                        0.00380852   \nrank_test_score                                                               63   \nsplit0_train_score                                                      0.693761   \nsplit1_train_score                                                       0.69597   \nsplit2_train_score                                                      0.694129   \nsplit3_train_score                                                      0.695312   \nsplit4_train_score                                                      0.696102   \nmean_train_score                                                        0.695055   \nstd_train_score                                                      0.000952129   \n\n                                                                              13  \\\nmean_fit_time                                                            12.3264   \nstd_fit_time                                                            0.214923   \nmean_score_time                                                          1.15432   \nstd_score_time                                                         0.0865089   \nparam_simpleimputer__strategy                                             median   \nparam_selectkbest__k                                                           7   \nparams                         {'simpleimputer__strategy': 'median', 'selectk...   \nsplit0_test_score                                                       0.700231   \nsplit1_test_score                                                       0.691393   \nsplit2_test_score                                                       0.698758   \nsplit3_test_score                                                       0.694024   \nsplit4_test_score                                                       0.690867   \nmean_test_score                                                         0.695055   \nstd_test_score                                                        0.00380852   \nrank_test_score                                                               63   \nsplit0_train_score                                                      0.693761   \nsplit1_train_score                                                       0.69597   \nsplit2_train_score                                                      0.694129   \nsplit3_train_score                                                      0.695312   \nsplit4_train_score                                                      0.696102   \nmean_train_score                                                        0.695055   \nstd_train_score                                                      0.000952129   \n\n                                                                              5   \\\nmean_fit_time                                                            12.8884   \nstd_fit_time                                                            0.181367   \nmean_score_time                                                          1.28896   \nstd_score_time                                                          0.100439   \nparam_simpleimputer__strategy                                             median   \nparam_selectkbest__k                                                           3   \nparams                         {'simpleimputer__strategy': 'median', 'selectk...   \nsplit0_test_score                                                       0.698548   \nsplit1_test_score                                                       0.692024   \nsplit2_test_score                                                       0.695812   \nsplit3_test_score                                                       0.691709   \nsplit4_test_score                                                       0.688026   \nmean_test_score                                                         0.693224   \nstd_test_score                                                        0.00362759   \nrank_test_score                                                               71   \nsplit0_train_score                                                      0.691893   \nsplit1_train_score                                                      0.693524   \nsplit2_train_score                                                      0.692577   \nsplit3_train_score                                                      0.693603   \nsplit4_train_score                                                      0.694523   \nmean_train_score                                                        0.693224   \nstd_train_score                                                      0.000906899   \n\n                                                                              4   \\\nmean_fit_time                                                             11.704   \nstd_fit_time                                                            0.205111   \nmean_score_time                                                          1.27526   \nstd_score_time                                                          0.130678   \nparam_simpleimputer__strategy                                               mean   \nparam_selectkbest__k                                                           3   \nparams                         {'simpleimputer__strategy': 'mean', 'selectkbe...   \nsplit0_test_score                                                       0.698548   \nsplit1_test_score                                                       0.692024   \nsplit2_test_score                                                       0.695812   \nsplit3_test_score                                                       0.691709   \nsplit4_test_score                                                       0.688026   \nmean_test_score                                                         0.693224   \nstd_test_score                                                        0.00362759   \nrank_test_score                                                               71   \nsplit0_train_score                                                      0.691893   \nsplit1_train_score                                                      0.693524   \nsplit2_train_score                                                      0.692577   \nsplit3_train_score                                                      0.693603   \nsplit4_train_score                                                      0.694523   \nmean_train_score                                                        0.693224   \nstd_train_score                                                      0.000906899   \n\n                                                                              3   \\\nmean_fit_time                                                            12.6447   \nstd_fit_time                                                            0.247083   \nmean_score_time                                                          1.39683   \nstd_score_time                                                         0.0852344   \nparam_simpleimputer__strategy                                             median   \nparam_selectkbest__k                                                           2   \nparams                         {'simpleimputer__strategy': 'median', 'selectk...   \nsplit0_test_score                                                       0.698548   \nsplit1_test_score                                                       0.692024   \nsplit2_test_score                                                       0.695812   \nsplit3_test_score                                                       0.691709   \nsplit4_test_score                                                       0.688026   \nmean_test_score                                                         0.693224   \nstd_test_score                                                        0.00362759   \nrank_test_score                                                               71   \nsplit0_train_score                                                      0.691893   \nsplit1_train_score                                                      0.693524   \nsplit2_train_score                                                      0.692577   \nsplit3_train_score                                                      0.693603   \nsplit4_train_score                                                      0.694523   \nmean_train_score                                                        0.693224   \nstd_train_score                                                      0.000906899   \n\n                                                                              2   \\\nmean_fit_time                                                            11.7102   \nstd_fit_time                                                            0.146178   \nmean_score_time                                                          1.21527   \nstd_score_time                                                         0.0312986   \nparam_simpleimputer__strategy                                               mean   \nparam_selectkbest__k                                                           2   \nparams                         {'simpleimputer__strategy': 'mean', 'selectkbe...   \nsplit0_test_score                                                       0.698548   \nsplit1_test_score                                                       0.692024   \nsplit2_test_score                                                       0.695812   \nsplit3_test_score                                                       0.691709   \nsplit4_test_score                                                       0.688026   \nmean_test_score                                                         0.693224   \nstd_test_score                                                        0.00362759   \nrank_test_score                                                               71   \nsplit0_train_score                                                      0.691893   \nsplit1_train_score                                                      0.693524   \nsplit2_train_score                                                      0.692577   \nsplit3_train_score                                                      0.693603   \nsplit4_train_score                                                      0.694523   \nmean_train_score                                                        0.693224   \nstd_train_score                                                      0.000906899   \n\n                                                                              1   \\\nmean_fit_time                                                            12.9379   \nstd_fit_time                                                            0.336348   \nmean_score_time                                                          1.22314   \nstd_score_time                                                         0.0473277   \nparam_simpleimputer__strategy                                             median   \nparam_selectkbest__k                                                           1   \nparams                         {'simpleimputer__strategy': 'median', 'selectk...   \nsplit0_test_score                                                       0.644781   \nsplit1_test_score                                                       0.637731   \nsplit2_test_score                                                       0.640993   \nsplit3_test_score                                                       0.639099   \nsplit4_test_score                                                       0.640362   \nmean_test_score                                                         0.640593   \nstd_test_score                                                        0.00237375   \nrank_test_score                                                               75   \nsplit0_train_score                                                      0.639547   \nsplit1_train_score                                                      0.641309   \nsplit2_train_score                                                      0.640493   \nsplit3_train_score                                                      0.640967   \nsplit4_train_score                                                      0.640651   \nmean_train_score                                                        0.640593   \nstd_train_score                                                      0.000593438   \n\n                                                                              0   \nmean_fit_time                                                             12.527  \nstd_fit_time                                                            0.165331  \nmean_score_time                                                          1.20189  \nstd_score_time                                                         0.0524388  \nparam_simpleimputer__strategy                                               mean  \nparam_selectkbest__k                                                           1  \nparams                         {'simpleimputer__strategy': 'mean', 'selectkbe...  \nsplit0_test_score                                                       0.644781  \nsplit1_test_score                                                       0.637731  \nsplit2_test_score                                                       0.640993  \nsplit3_test_score                                                       0.639099  \nsplit4_test_score                                                       0.640362  \nmean_test_score                                                         0.640593  \nstd_test_score                                                        0.00237375  \nrank_test_score                                                               75  \nsplit0_train_score                                                      0.639547  \nsplit1_train_score                                                      0.641309  \nsplit2_train_score                                                      0.640493  \nsplit3_train_score                                                      0.640967  \nsplit4_train_score                                                      0.640651  \nmean_train_score                                                        0.640593  \nstd_train_score                                                      0.000593438  \n\n[22 rows x 76 columns]"
     },
     "execution_count": 67,
     "metadata": {},
     "output_type": "execute_result"
    }
   ],
   "source": [
    "pd.DataFrame(search.cv_results_).sort_values(by='rank_test_score').T"
   ]
  },
  {
   "cell_type": "code",
   "execution_count": 77,
   "metadata": {},
   "outputs": [],
   "source": [
    "pipeline = search.best_estimator_"
   ]
  },
  {
   "cell_type": "code",
   "execution_count": 79,
   "metadata": {},
   "outputs": [],
   "source": [
    "y_pred = pipeline.predict(x_test)\n",
    "submission = sample_submission.copy()\n",
    "submission['status_group'] = y_pred\n",
    "filename = 'kaggle-waterpumps-submission-03.csv'\n",
    "submission.to_csv(filename, index=False)"
   ]
  },
  {
   "cell_type": "code",
   "execution_count": 78,
   "metadata": {},
   "outputs": [
    {
     "name": "stdout",
     "output_type": "stream",
     "text": "Validation Accuracy 0.8113636363636364\n"
    }
   ],
   "source": [
    "print('Validation Accuracy', pipeline.score(x_val, y_val))"
   ]
  },
  {
   "cell_type": "code",
   "execution_count": null,
   "metadata": {},
   "outputs": [],
   "source": []
  }
 ],
 "metadata": {
  "kernelspec": {
   "display_name": "Python 3",
   "language": "python",
   "name": "python3"
  },
  "language_info": {
   "codemirror_mode": {
    "name": "ipython",
    "version": 3
   },
   "file_extension": ".py",
   "mimetype": "text/x-python",
   "name": "python",
   "nbconvert_exporter": "python",
   "pygments_lexer": "ipython3",
   "version": "3.6.6-final"
  }
 },
 "nbformat": 4,
 "nbformat_minor": 2
}