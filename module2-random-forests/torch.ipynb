{
 "nbformat": 4,
 "nbformat_minor": 2,
 "metadata": {
  "language_info": {
   "name": "python",
   "codemirror_mode": {
    "name": "ipython",
    "version": 3
   },
   "version": "3.7.4-final"
  },
  "orig_nbformat": 2,
  "file_extension": ".py",
  "mimetype": "text/x-python",
  "name": "python",
  "npconvert_exporter": "python",
  "pygments_lexer": "ipython3",
  "version": 3,
  "kernelspec": {
   "name": "python37464bitbaseconda09becdb38b044ff7a798497c9762d813",
   "display_name": "Python 3.7.4 64-bit ('base': conda)"
  }
 },
 "cells": [
  {
   "source": [
    "%%capture\n",
    "import sys\n",
    "\n",
    "# If you're on Colab:\n",
    "if 'google.colab' in sys.modules:\n",
    "    DATA_PATH = 'https://raw.githubusercontent.com/LambdaSchool/DS-Unit-2-Kaggle-Challenge/master/data/'\n",
    "    !pip install category_encoders==2.*\n",
    "\n",
    "# If you're working locally:\n",
    "else:\n",
    "    DATA_PATH = '../data/'"
   ],
   "cell_type": "code",
   "outputs": [],
   "metadata": {},
   "execution_count": 1
  },
  {
   "source": [
    "import pandas as pd\n",
    "from sklearn.model_selection import train_test_split\n",
    "\n",
    "train = pd.merge(pd.read_csv(DATA_PATH+'waterpumps/train_features.csv'), \n",
    "                 pd.read_csv(DATA_PATH+'waterpumps/train_labels.csv'))\n",
    "test = pd.read_csv(DATA_PATH+'waterpumps/test_features.csv')\n",
    "sample_submission = pd.read_csv(DATA_PATH+'waterpumps/sample_submission.csv')\n",
    "train, val = train_test_split(train, train_size=0.80, test_size=0.20, \n",
    "                              stratify=train['status_group'], random_state=42)\n",
    "\n",
    "\n",
    "train.shape, test.shape, val.shape"
   ],
   "cell_type": "code",
   "outputs": [
    {
     "output_type": "execute_result",
     "data": {
      "text/plain": "((47520, 41), (14358, 40), (11880, 41))"
     },
     "metadata": {},
     "execution_count": 3
    }
   ],
   "metadata": {},
   "execution_count": 3
  },
  {
   "source": [
    "import numpy as np\n",
    "\n",
    "\n",
    "\n",
    "def wrangle(X):\n",
    "    \"\"\"Wrangle train, validate, and test sets in the same way\"\"\"\n",
    "    \n",
    "    # Prevent SettingWithCopyWarning\n",
    "    X = X.copy()\n",
    "    \n",
    "    # About 3% of the time, latitude has small values near zero,\n",
    "    # outside Tanzania, so we'll treat these values like zero.\n",
    "    X['latitude'] = X['latitude'].replace(-2e-08, 0)\n",
    "    \n",
    "    # When columns have zeros and shouldn't, they are like null values.\n",
    "    # So we will replace the zeros with nulls, and impute missing values later.\n",
    "    # Also create a \"missing indicator\" column, because the fact that\n",
    "    # values are missing may be a predictive signal.\n",
    "    cols_with_zeros = ['longitude', 'latitude', 'construction_year', \n",
    "                       'gps_height', 'population']\n",
    "    for col in cols_with_zeros:\n",
    "        X[col] = X[col].replace(0, np.nan)\n",
    "        X[col+'_MISSING'] = X[col].isnull()\n",
    "            \n",
    "    # Drop duplicate columns\n",
    "    duplicates = ['quantity_group', 'payment_type']\n",
    "    X = X.drop(columns=duplicates)\n",
    "    \n",
    "    # Drop recorded_by (never varies) and id (always varies, random)\n",
    "    unusable_variance = ['recorded_by', 'id']\n",
    "    X = X.drop(columns=unusable_variance)\n",
    "    \n",
    "    # Convert date_recorded to datetime\n",
    "    X['date_recorded'] = pd.to_datetime(X['date_recorded'], infer_datetime_format=True)\n",
    "    \n",
    "    # Extract components from date_recorded, then drop the original column\n",
    "    X['year_recorded'] = X['date_recorded'].dt.year\n",
    "    X['month_recorded'] = X['date_recorded'].dt.month\n",
    "    X['day_recorded'] = X['date_recorded'].dt.day\n",
    "    X = X.drop(columns='date_recorded')\n",
    "    \n",
    "    # Engineer feature: how many years from construction_year to date_recorded\n",
    "    X['years'] = X['year_recorded'] - X['construction_year']\n",
    "    X['years_MISSING'] = X['years'].isnull()\n",
    "    \n",
    "    # return the wrangled dataframe\n",
    "    return X"
   ],
   "cell_type": "code",
   "outputs": [],
   "metadata": {},
   "execution_count": 4
  },
  {
   "source": [
    "train = wrangle(train)\n",
    "val = wrangle(val)\n",
    "test = wrangle(test)"
   ],
   "cell_type": "code",
   "outputs": [],
   "metadata": {},
   "execution_count": 5
  },
  {
   "source": [
    "target = 'status_group'\n",
    "\n",
    "train_features = train.drop(columns=[target])\n",
    "\n",
    "numeric_features = train_features.select_dtypes(include='number').columns.tolist()\n",
    "\n",
    "cardinality = train_features.select_dtypes(exclude='number').nunique()\n",
    "\n",
    "categorical_features = cardinality[cardinality <= 50].index.tolist()\n",
    "\n",
    "features = numeric_features + categorical_features"
   ],
   "cell_type": "code",
   "outputs": [],
   "metadata": {},
   "execution_count": 6
  },
  {
   "source": [],
   "cell_type": "code",
   "outputs": [],
   "metadata": {},
   "execution_count": 7
  },
  {
   "source": [],
   "cell_type": "code",
   "outputs": [],
   "metadata": {},
   "execution_count": 10
  },
  {
   "source": [
    "X_train"
   ],
   "cell_type": "code",
   "outputs": [
    {
     "output_type": "execute_result",
     "data": {
      "text/plain": "       amount_tsh  gps_height  longitude   latitude  num_private  region_code  \\\n43360         0.0         NaN  33.542898  -9.174777            0           12   \n7263        500.0      2049.0  34.665760  -9.308548            0           11   \n2486         25.0       290.0  38.238568  -6.179919            0            6   \n313           0.0         NaN  30.716727  -1.289055            0           18   \n52726         0.0         NaN  35.389331  -6.399942            0            1   \n...           ...         ...        ...        ...          ...          ...   \n9795         50.0       489.0  38.268574  -5.450254            4            4   \n58170         0.0         NaN  33.926294  -9.641293            0           12   \n17191         0.0       599.0  39.262924 -10.768079            0           90   \n8192         30.0       426.0  39.348550 -10.642069            0           90   \n49783        50.0       501.0  37.562148  -6.888409            0            5   \n\n       district_code  population  construction_year  year_recorded  ...  \\\n43360              4         NaN                NaN           2011  ...   \n7263               4       175.0             2008.0           2011  ...   \n2486               1      2300.0             2010.0           2011  ...   \n313                1         NaN                NaN           2011  ...   \n52726              6         NaN                NaN           2011  ...   \n...              ...         ...                ...            ...  ...   \n9795               6      1300.0             2009.0           2011  ...   \n58170              3         NaN                NaN           2011  ...   \n17191             33         1.0             2012.0           2013  ...   \n8192              33       320.0             1988.0           2013  ...   \n49783              6        90.0             1982.0           2011  ...   \n\n        source_type  source_class              waterpoint_type  \\\n43360        spring   groundwater           communal standpipe   \n7263         spring   groundwater           communal standpipe   \n2486   shallow well   groundwater                    hand pump   \n313    shallow well   groundwater                        other   \n52726      borehole   groundwater           communal standpipe   \n...             ...           ...                          ...   \n9795     river/lake       surface           communal standpipe   \n58170        spring   groundwater           communal standpipe   \n17191      borehole   groundwater  communal standpipe multiple   \n8192       borehole   groundwater  communal standpipe multiple   \n49783    river/lake       surface           communal standpipe   \n\n      waterpoint_type_group longitude_MISSING latitude_MISSING  \\\n43360    communal standpipe             False            False   \n7263     communal standpipe             False            False   \n2486              hand pump             False            False   \n313                   other             False            False   \n52726    communal standpipe             False            False   \n...                     ...               ...              ...   \n9795     communal standpipe             False            False   \n58170    communal standpipe             False            False   \n17191    communal standpipe             False            False   \n8192     communal standpipe             False            False   \n49783    communal standpipe             False            False   \n\n      construction_year_MISSING gps_height_MISSING population_MISSING  \\\n43360                      True               True               True   \n7263                      False              False              False   \n2486                      False              False              False   \n313                        True               True               True   \n52726                      True               True               True   \n...                         ...                ...                ...   \n9795                      False              False              False   \n58170                      True               True               True   \n17191                     False              False              False   \n8192                      False              False              False   \n49783                     False              False              False   \n\n      years_MISSING  \n43360          True  \n7263          False  \n2486          False  \n313            True  \n52726          True  \n...             ...  \n9795          False  \n58170          True  \n17191         False  \n8192          False  \n49783         False  \n\n[47520 rows x 38 columns]",
      "text/html": "<div>\n<style scoped>\n    .dataframe tbody tr th:only-of-type {\n        vertical-align: middle;\n    }\n\n    .dataframe tbody tr th {\n        vertical-align: top;\n    }\n\n    .dataframe thead th {\n        text-align: right;\n    }\n</style>\n<table border=\"1\" class=\"dataframe\">\n  <thead>\n    <tr style=\"text-align: right;\">\n      <th></th>\n      <th>amount_tsh</th>\n      <th>gps_height</th>\n      <th>longitude</th>\n      <th>latitude</th>\n      <th>num_private</th>\n      <th>region_code</th>\n      <th>district_code</th>\n      <th>population</th>\n      <th>construction_year</th>\n      <th>year_recorded</th>\n      <th>...</th>\n      <th>source_type</th>\n      <th>source_class</th>\n      <th>waterpoint_type</th>\n      <th>waterpoint_type_group</th>\n      <th>longitude_MISSING</th>\n      <th>latitude_MISSING</th>\n      <th>construction_year_MISSING</th>\n      <th>gps_height_MISSING</th>\n      <th>population_MISSING</th>\n      <th>years_MISSING</th>\n    </tr>\n  </thead>\n  <tbody>\n    <tr>\n      <th>43360</th>\n      <td>0.0</td>\n      <td>NaN</td>\n      <td>33.542898</td>\n      <td>-9.174777</td>\n      <td>0</td>\n      <td>12</td>\n      <td>4</td>\n      <td>NaN</td>\n      <td>NaN</td>\n      <td>2011</td>\n      <td>...</td>\n      <td>spring</td>\n      <td>groundwater</td>\n      <td>communal standpipe</td>\n      <td>communal standpipe</td>\n      <td>False</td>\n      <td>False</td>\n      <td>True</td>\n      <td>True</td>\n      <td>True</td>\n      <td>True</td>\n    </tr>\n    <tr>\n      <th>7263</th>\n      <td>500.0</td>\n      <td>2049.0</td>\n      <td>34.665760</td>\n      <td>-9.308548</td>\n      <td>0</td>\n      <td>11</td>\n      <td>4</td>\n      <td>175.0</td>\n      <td>2008.0</td>\n      <td>2011</td>\n      <td>...</td>\n      <td>spring</td>\n      <td>groundwater</td>\n      <td>communal standpipe</td>\n      <td>communal standpipe</td>\n      <td>False</td>\n      <td>False</td>\n      <td>False</td>\n      <td>False</td>\n      <td>False</td>\n      <td>False</td>\n    </tr>\n    <tr>\n      <th>2486</th>\n      <td>25.0</td>\n      <td>290.0</td>\n      <td>38.238568</td>\n      <td>-6.179919</td>\n      <td>0</td>\n      <td>6</td>\n      <td>1</td>\n      <td>2300.0</td>\n      <td>2010.0</td>\n      <td>2011</td>\n      <td>...</td>\n      <td>shallow well</td>\n      <td>groundwater</td>\n      <td>hand pump</td>\n      <td>hand pump</td>\n      <td>False</td>\n      <td>False</td>\n      <td>False</td>\n      <td>False</td>\n      <td>False</td>\n      <td>False</td>\n    </tr>\n    <tr>\n      <th>313</th>\n      <td>0.0</td>\n      <td>NaN</td>\n      <td>30.716727</td>\n      <td>-1.289055</td>\n      <td>0</td>\n      <td>18</td>\n      <td>1</td>\n      <td>NaN</td>\n      <td>NaN</td>\n      <td>2011</td>\n      <td>...</td>\n      <td>shallow well</td>\n      <td>groundwater</td>\n      <td>other</td>\n      <td>other</td>\n      <td>False</td>\n      <td>False</td>\n      <td>True</td>\n      <td>True</td>\n      <td>True</td>\n      <td>True</td>\n    </tr>\n    <tr>\n      <th>52726</th>\n      <td>0.0</td>\n      <td>NaN</td>\n      <td>35.389331</td>\n      <td>-6.399942</td>\n      <td>0</td>\n      <td>1</td>\n      <td>6</td>\n      <td>NaN</td>\n      <td>NaN</td>\n      <td>2011</td>\n      <td>...</td>\n      <td>borehole</td>\n      <td>groundwater</td>\n      <td>communal standpipe</td>\n      <td>communal standpipe</td>\n      <td>False</td>\n      <td>False</td>\n      <td>True</td>\n      <td>True</td>\n      <td>True</td>\n      <td>True</td>\n    </tr>\n    <tr>\n      <th>...</th>\n      <td>...</td>\n      <td>...</td>\n      <td>...</td>\n      <td>...</td>\n      <td>...</td>\n      <td>...</td>\n      <td>...</td>\n      <td>...</td>\n      <td>...</td>\n      <td>...</td>\n      <td>...</td>\n      <td>...</td>\n      <td>...</td>\n      <td>...</td>\n      <td>...</td>\n      <td>...</td>\n      <td>...</td>\n      <td>...</td>\n      <td>...</td>\n      <td>...</td>\n      <td>...</td>\n    </tr>\n    <tr>\n      <th>9795</th>\n      <td>50.0</td>\n      <td>489.0</td>\n      <td>38.268574</td>\n      <td>-5.450254</td>\n      <td>4</td>\n      <td>4</td>\n      <td>6</td>\n      <td>1300.0</td>\n      <td>2009.0</td>\n      <td>2011</td>\n      <td>...</td>\n      <td>river/lake</td>\n      <td>surface</td>\n      <td>communal standpipe</td>\n      <td>communal standpipe</td>\n      <td>False</td>\n      <td>False</td>\n      <td>False</td>\n      <td>False</td>\n      <td>False</td>\n      <td>False</td>\n    </tr>\n    <tr>\n      <th>58170</th>\n      <td>0.0</td>\n      <td>NaN</td>\n      <td>33.926294</td>\n      <td>-9.641293</td>\n      <td>0</td>\n      <td>12</td>\n      <td>3</td>\n      <td>NaN</td>\n      <td>NaN</td>\n      <td>2011</td>\n      <td>...</td>\n      <td>spring</td>\n      <td>groundwater</td>\n      <td>communal standpipe</td>\n      <td>communal standpipe</td>\n      <td>False</td>\n      <td>False</td>\n      <td>True</td>\n      <td>True</td>\n      <td>True</td>\n      <td>True</td>\n    </tr>\n    <tr>\n      <th>17191</th>\n      <td>0.0</td>\n      <td>599.0</td>\n      <td>39.262924</td>\n      <td>-10.768079</td>\n      <td>0</td>\n      <td>90</td>\n      <td>33</td>\n      <td>1.0</td>\n      <td>2012.0</td>\n      <td>2013</td>\n      <td>...</td>\n      <td>borehole</td>\n      <td>groundwater</td>\n      <td>communal standpipe multiple</td>\n      <td>communal standpipe</td>\n      <td>False</td>\n      <td>False</td>\n      <td>False</td>\n      <td>False</td>\n      <td>False</td>\n      <td>False</td>\n    </tr>\n    <tr>\n      <th>8192</th>\n      <td>30.0</td>\n      <td>426.0</td>\n      <td>39.348550</td>\n      <td>-10.642069</td>\n      <td>0</td>\n      <td>90</td>\n      <td>33</td>\n      <td>320.0</td>\n      <td>1988.0</td>\n      <td>2013</td>\n      <td>...</td>\n      <td>borehole</td>\n      <td>groundwater</td>\n      <td>communal standpipe multiple</td>\n      <td>communal standpipe</td>\n      <td>False</td>\n      <td>False</td>\n      <td>False</td>\n      <td>False</td>\n      <td>False</td>\n      <td>False</td>\n    </tr>\n    <tr>\n      <th>49783</th>\n      <td>50.0</td>\n      <td>501.0</td>\n      <td>37.562148</td>\n      <td>-6.888409</td>\n      <td>0</td>\n      <td>5</td>\n      <td>6</td>\n      <td>90.0</td>\n      <td>1982.0</td>\n      <td>2011</td>\n      <td>...</td>\n      <td>river/lake</td>\n      <td>surface</td>\n      <td>communal standpipe</td>\n      <td>communal standpipe</td>\n      <td>False</td>\n      <td>False</td>\n      <td>False</td>\n      <td>False</td>\n      <td>False</td>\n      <td>False</td>\n    </tr>\n  </tbody>\n</table>\n<p>47520 rows × 38 columns</p>\n</div>"
     },
     "metadata": {},
     "execution_count": 15
    }
   ],
   "metadata": {},
   "execution_count": 15
  },
  {
   "cell_type": "code",
   "execution_count": null,
   "metadata": {},
   "outputs": [],
   "source": []
  }
 ]
}