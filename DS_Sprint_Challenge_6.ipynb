{
  "nbformat": 4,
  "nbformat_minor": 0,
  "metadata": {
    "colab": {
      "name": "DS_Sprint_Challenge_6.ipynb",
      "provenance": [],
      "collapsed_sections": []
    },
    "kernelspec": {
      "display_name": "Python 3",
      "language": "python",
      "name": "python3"
    },
    "language_info": {
      "codemirror_mode": {
        "name": "ipython",
        "version": 3
      },
      "file_extension": ".py",
      "mimetype": "text/x-python",
      "name": "python",
      "nbconvert_exporter": "python",
      "pygments_lexer": "ipython3",
      "version": "3.6.6-final"
    }
  },
  "cells": [
    {
      "cell_type": "markdown",
      "metadata": {
        "colab_type": "text",
        "id": "M3XH_XLsy_Bn"
      },
      "source": [
        "_Lambda School Data Science, Unit 2_\n",
        " \n",
        "# Sprint Challenge: Predict Steph Curry's shots 🏀\n",
        "\n",
        "For your Sprint Challenge, you'll use a dataset with all Steph Curry's NBA field goal attempts. (Regular season and playoff games, from October 28, 2009, through June 5, 2019.) \n",
        "\n",
        "You'll predict whether each shot was made, using information about the shot and the game. This is hard to predict! Try to get above 60% accuracy. The dataset was collected with the [nba_api](https://github.com/swar/nba_api) Python library."
      ]
    },
    {
      "cell_type": "code",
      "execution_count": 244,
      "metadata": {},
      "outputs": [],
      "source": [
        "%%capture\n",
        "import sys\n",
        "\n",
        "if 'google.colab' in sys.modules:\n",
        "    # Install packages in Colab\n",
        "    !pip install category_encoders==2.*\n",
        "    !pip install pandas-profiling==2.*"
      ]
    },
    {
      "cell_type": "code",
      "execution_count": 245,
      "metadata": {},
      "outputs": [],
      "source": [
        "# Read data\n",
        "import pandas as pd\n",
        "url = 'https://drive.google.com/uc?export=download&id=1fL7KPyxgGYfQDsuJoBWHIWwCAf-HTFpX'\n",
        "df = pd.read_csv(url)\n",
        "\n",
        "# Check data shape\n",
        "assert df.shape == (13958, 20)"
      ]
    },
    {
      "cell_type": "markdown",
      "metadata": {
        "colab_type": "text",
        "id": "B8BvDKLFy_Bq"
      },
      "source": [
        "To demonstrate mastery on your Sprint Challenge, do all the required, numbered instructions in this notebook.\n",
        "\n",
        "To earn a score of \"3\", also do all the stretch goals.\n",
        "\n",
        "You are permitted and encouraged to do as much data exploration as you want.\n",
        "\n",
        "**1. Begin with baselines for classification.** Your target to predict is `shot_made_flag`. What is your baseline accuracy, if you guessed the majority class for every prediction?\n",
        "\n",
        "**2. Hold out your test set.** Use the 2018-19 season to test. NBA seasons begin in October and end in June. You'll know you've split the data correctly when your test set has 1,709 observations.\n",
        "\n",
        "**3. Engineer new feature.** Engineer at least **1** new feature, from this list, or your own idea.\n",
        "- **Homecourt Advantage**: Is the home team (`htm`) the Golden State Warriors (`GSW`) ?\n",
        "- **Opponent**: Who is the other team playing the Golden State Warriors?\n",
        "- **Seconds remaining in the period**: Combine minutes remaining with seconds remaining, to get the total number of seconds remaining in the period.\n",
        "- **Seconds remaining in the game**: Combine period, and seconds remaining in the period, to get the total number of seconds remaining in the game. A basketball game has 4 periods, each 12 minutes long.\n",
        "- **Made previous shot**: Was Steph Curry's previous shot successful?\n",
        "\n",
        "**4. Decide how to validate** your model. Choose one of the following options. Any of these options are good. You are not graded on which you choose.\n",
        "- **Train/validate/test split: train on the 2009-10 season through 2016-17 season, validate with the 2017-18 season.** You'll know you've split the data correctly when your train set has 11,081 observations, and your validation set has 1,168 observations.\n",
        "- **Train/validate/test split: random 80/20%** train/validate split.\n",
        "- **Cross-validation** with independent test set. You may use any scikit-learn cross-validation method.\n",
        "\n",
        "**5.** Use a scikit-learn **pipeline** to **encode categoricals** and fit a **Decision Tree** or **Random Forest** model.\n",
        "\n",
        "**6.** Get your model's **validation accuracy.** (Multiple times if you try multiple iterations.) \n",
        "\n",
        "**7.** Get your model's **test accuracy.** (One time, at the end.)\n",
        "\n",
        "\n",
        "**8.** Given a **confusion matrix** for a hypothetical binary classification model, **calculate accuracy, precision, and recall.**\n",
        "\n",
        "### Stretch Goals\n",
        "- Engineer 4+ new features total, either from the list above, or your own ideas.\n",
        "- Make 2+ visualizations to explore relationships between features and target.\n",
        "- Optimize 3+ hyperparameters by trying 10+ \"candidates\" (possible combinations of hyperparameters). You can use `RandomizedSearchCV` or do it manually.\n",
        "- Get and plot your model's feature importances.\n",
        "\n"
      ]
    },
    {
      "cell_type": "markdown",
      "metadata": {
        "colab_type": "text",
        "id": "t6Jt3qjQ-zig"
      },
      "source": [
        "## 1. Begin with baselines for classification. \n",
        "\n",
        ">Your target to predict is `shot_made_flag`. What would your baseline accuracy be, if you guessed the majority class for every prediction?"
      ]
    },
    {
      "cell_type": "code",
      "execution_count": 246,
      "metadata": {},
      "outputs": [
        {
          "data": {
            "text/html": "<div>\n<style scoped>\n    .dataframe tbody tr th:only-of-type {\n        vertical-align: middle;\n    }\n\n    .dataframe tbody tr th {\n        vertical-align: top;\n    }\n\n    .dataframe thead th {\n        text-align: right;\n    }\n</style>\n<table border=\"1\" class=\"dataframe\">\n  <thead>\n    <tr style=\"text-align: right;\">\n      <th></th>\n      <th>game_id</th>\n      <th>game_event_id</th>\n      <th>player_name</th>\n      <th>period</th>\n      <th>minutes_remaining</th>\n      <th>seconds_remaining</th>\n      <th>action_type</th>\n      <th>shot_type</th>\n      <th>shot_zone_basic</th>\n      <th>shot_zone_area</th>\n      <th>shot_zone_range</th>\n      <th>shot_distance</th>\n      <th>loc_x</th>\n      <th>loc_y</th>\n      <th>shot_made_flag</th>\n      <th>game_date</th>\n      <th>htm</th>\n      <th>vtm</th>\n      <th>season_type</th>\n      <th>scoremargin_before_shot</th>\n    </tr>\n  </thead>\n  <tbody>\n    <tr>\n      <th>0</th>\n      <td>20900015</td>\n      <td>4</td>\n      <td>Stephen Curry</td>\n      <td>1</td>\n      <td>11</td>\n      <td>25</td>\n      <td>Jump Shot</td>\n      <td>3PT Field Goal</td>\n      <td>Above the Break 3</td>\n      <td>Right Side Center(RC)</td>\n      <td>24+ ft.</td>\n      <td>26</td>\n      <td>99</td>\n      <td>249</td>\n      <td>0</td>\n      <td>2009-10-28</td>\n      <td>GSW</td>\n      <td>HOU</td>\n      <td>Regular Season</td>\n      <td>2.0</td>\n    </tr>\n    <tr>\n      <th>1</th>\n      <td>20900015</td>\n      <td>17</td>\n      <td>Stephen Curry</td>\n      <td>1</td>\n      <td>9</td>\n      <td>31</td>\n      <td>Step Back Jump shot</td>\n      <td>2PT Field Goal</td>\n      <td>Mid-Range</td>\n      <td>Left Side Center(LC)</td>\n      <td>16-24 ft.</td>\n      <td>18</td>\n      <td>-122</td>\n      <td>145</td>\n      <td>1</td>\n      <td>2009-10-28</td>\n      <td>GSW</td>\n      <td>HOU</td>\n      <td>Regular Season</td>\n      <td>0.0</td>\n    </tr>\n    <tr>\n      <th>2</th>\n      <td>20900015</td>\n      <td>53</td>\n      <td>Stephen Curry</td>\n      <td>1</td>\n      <td>6</td>\n      <td>2</td>\n      <td>Jump Shot</td>\n      <td>2PT Field Goal</td>\n      <td>In The Paint (Non-RA)</td>\n      <td>Center(C)</td>\n      <td>8-16 ft.</td>\n      <td>14</td>\n      <td>-60</td>\n      <td>129</td>\n      <td>0</td>\n      <td>2009-10-28</td>\n      <td>GSW</td>\n      <td>HOU</td>\n      <td>Regular Season</td>\n      <td>-4.0</td>\n    </tr>\n    <tr>\n      <th>3</th>\n      <td>20900015</td>\n      <td>141</td>\n      <td>Stephen Curry</td>\n      <td>2</td>\n      <td>9</td>\n      <td>49</td>\n      <td>Jump Shot</td>\n      <td>2PT Field Goal</td>\n      <td>Mid-Range</td>\n      <td>Left Side(L)</td>\n      <td>16-24 ft.</td>\n      <td>19</td>\n      <td>-172</td>\n      <td>82</td>\n      <td>0</td>\n      <td>2009-10-28</td>\n      <td>GSW</td>\n      <td>HOU</td>\n      <td>Regular Season</td>\n      <td>-4.0</td>\n    </tr>\n    <tr>\n      <th>4</th>\n      <td>20900015</td>\n      <td>249</td>\n      <td>Stephen Curry</td>\n      <td>2</td>\n      <td>2</td>\n      <td>19</td>\n      <td>Jump Shot</td>\n      <td>2PT Field Goal</td>\n      <td>Mid-Range</td>\n      <td>Left Side Center(LC)</td>\n      <td>16-24 ft.</td>\n      <td>16</td>\n      <td>-68</td>\n      <td>148</td>\n      <td>0</td>\n      <td>2009-10-28</td>\n      <td>GSW</td>\n      <td>HOU</td>\n      <td>Regular Season</td>\n      <td>0.0</td>\n    </tr>\n  </tbody>\n</table>\n</div>",
            "text/plain": "    game_id  game_event_id    player_name  period  minutes_remaining  \\\n0  20900015              4  Stephen Curry       1                 11   \n1  20900015             17  Stephen Curry       1                  9   \n2  20900015             53  Stephen Curry       1                  6   \n3  20900015            141  Stephen Curry       2                  9   \n4  20900015            249  Stephen Curry       2                  2   \n\n   seconds_remaining          action_type       shot_type  \\\n0                 25            Jump Shot  3PT Field Goal   \n1                 31  Step Back Jump shot  2PT Field Goal   \n2                  2            Jump Shot  2PT Field Goal   \n3                 49            Jump Shot  2PT Field Goal   \n4                 19            Jump Shot  2PT Field Goal   \n\n         shot_zone_basic         shot_zone_area shot_zone_range  \\\n0      Above the Break 3  Right Side Center(RC)         24+ ft.   \n1              Mid-Range   Left Side Center(LC)       16-24 ft.   \n2  In The Paint (Non-RA)              Center(C)        8-16 ft.   \n3              Mid-Range           Left Side(L)       16-24 ft.   \n4              Mid-Range   Left Side Center(LC)       16-24 ft.   \n\n   shot_distance  loc_x  loc_y  shot_made_flag   game_date  htm  vtm  \\\n0             26     99    249               0  2009-10-28  GSW  HOU   \n1             18   -122    145               1  2009-10-28  GSW  HOU   \n2             14    -60    129               0  2009-10-28  GSW  HOU   \n3             19   -172     82               0  2009-10-28  GSW  HOU   \n4             16    -68    148               0  2009-10-28  GSW  HOU   \n\n      season_type  scoremargin_before_shot  \n0  Regular Season                      2.0  \n1  Regular Season                      0.0  \n2  Regular Season                     -4.0  \n3  Regular Season                     -4.0  \n4  Regular Season                      0.0  "
          },
          "execution_count": 246,
          "metadata": {},
          "output_type": "execute_result"
        }
      ],
      "source": [
        "df.head()"
      ]
    },
    {
      "cell_type": "code",
      "execution_count": 247,
      "metadata": {},
      "outputs": [],
      "source": [
        "x = df.copy()\n",
        "\n",
        "unneeded = ['game_id', 'game_event_id', 'player_name']\n",
        "df1 = x.drop(columns=unneeded)"
      ]
    },
    {
      "cell_type": "code",
      "execution_count": 248,
      "metadata": {},
      "outputs": [
        {
          "data": {
            "text/html": "<div>\n<style scoped>\n    .dataframe tbody tr th:only-of-type {\n        vertical-align: middle;\n    }\n\n    .dataframe tbody tr th {\n        vertical-align: top;\n    }\n\n    .dataframe thead th {\n        text-align: right;\n    }\n</style>\n<table border=\"1\" class=\"dataframe\">\n  <thead>\n    <tr style=\"text-align: right;\">\n      <th></th>\n      <th>period</th>\n      <th>minutes_remaining</th>\n      <th>seconds_remaining</th>\n      <th>action_type</th>\n      <th>shot_type</th>\n      <th>shot_zone_basic</th>\n      <th>shot_zone_area</th>\n      <th>shot_zone_range</th>\n      <th>shot_distance</th>\n      <th>loc_x</th>\n      <th>loc_y</th>\n      <th>shot_made_flag</th>\n      <th>game_date</th>\n      <th>htm</th>\n      <th>vtm</th>\n      <th>season_type</th>\n      <th>scoremargin_before_shot</th>\n    </tr>\n  </thead>\n  <tbody>\n    <tr>\n      <th>0</th>\n      <td>1</td>\n      <td>11</td>\n      <td>25</td>\n      <td>Jump Shot</td>\n      <td>3PT Field Goal</td>\n      <td>Above the Break 3</td>\n      <td>Right Side Center(RC)</td>\n      <td>24+ ft.</td>\n      <td>26</td>\n      <td>99</td>\n      <td>249</td>\n      <td>0</td>\n      <td>2009-10-28</td>\n      <td>GSW</td>\n      <td>HOU</td>\n      <td>Regular Season</td>\n      <td>2.0</td>\n    </tr>\n    <tr>\n      <th>1</th>\n      <td>1</td>\n      <td>9</td>\n      <td>31</td>\n      <td>Step Back Jump shot</td>\n      <td>2PT Field Goal</td>\n      <td>Mid-Range</td>\n      <td>Left Side Center(LC)</td>\n      <td>16-24 ft.</td>\n      <td>18</td>\n      <td>-122</td>\n      <td>145</td>\n      <td>1</td>\n      <td>2009-10-28</td>\n      <td>GSW</td>\n      <td>HOU</td>\n      <td>Regular Season</td>\n      <td>0.0</td>\n    </tr>\n    <tr>\n      <th>2</th>\n      <td>1</td>\n      <td>6</td>\n      <td>2</td>\n      <td>Jump Shot</td>\n      <td>2PT Field Goal</td>\n      <td>In The Paint (Non-RA)</td>\n      <td>Center(C)</td>\n      <td>8-16 ft.</td>\n      <td>14</td>\n      <td>-60</td>\n      <td>129</td>\n      <td>0</td>\n      <td>2009-10-28</td>\n      <td>GSW</td>\n      <td>HOU</td>\n      <td>Regular Season</td>\n      <td>-4.0</td>\n    </tr>\n    <tr>\n      <th>3</th>\n      <td>2</td>\n      <td>9</td>\n      <td>49</td>\n      <td>Jump Shot</td>\n      <td>2PT Field Goal</td>\n      <td>Mid-Range</td>\n      <td>Left Side(L)</td>\n      <td>16-24 ft.</td>\n      <td>19</td>\n      <td>-172</td>\n      <td>82</td>\n      <td>0</td>\n      <td>2009-10-28</td>\n      <td>GSW</td>\n      <td>HOU</td>\n      <td>Regular Season</td>\n      <td>-4.0</td>\n    </tr>\n    <tr>\n      <th>4</th>\n      <td>2</td>\n      <td>2</td>\n      <td>19</td>\n      <td>Jump Shot</td>\n      <td>2PT Field Goal</td>\n      <td>Mid-Range</td>\n      <td>Left Side Center(LC)</td>\n      <td>16-24 ft.</td>\n      <td>16</td>\n      <td>-68</td>\n      <td>148</td>\n      <td>0</td>\n      <td>2009-10-28</td>\n      <td>GSW</td>\n      <td>HOU</td>\n      <td>Regular Season</td>\n      <td>0.0</td>\n    </tr>\n  </tbody>\n</table>\n</div>",
            "text/plain": "   period  minutes_remaining  seconds_remaining          action_type  \\\n0       1                 11                 25            Jump Shot   \n1       1                  9                 31  Step Back Jump shot   \n2       1                  6                  2            Jump Shot   \n3       2                  9                 49            Jump Shot   \n4       2                  2                 19            Jump Shot   \n\n        shot_type        shot_zone_basic         shot_zone_area  \\\n0  3PT Field Goal      Above the Break 3  Right Side Center(RC)   \n1  2PT Field Goal              Mid-Range   Left Side Center(LC)   \n2  2PT Field Goal  In The Paint (Non-RA)              Center(C)   \n3  2PT Field Goal              Mid-Range           Left Side(L)   \n4  2PT Field Goal              Mid-Range   Left Side Center(LC)   \n\n  shot_zone_range  shot_distance  loc_x  loc_y  shot_made_flag   game_date  \\\n0         24+ ft.             26     99    249               0  2009-10-28   \n1       16-24 ft.             18   -122    145               1  2009-10-28   \n2        8-16 ft.             14    -60    129               0  2009-10-28   \n3       16-24 ft.             19   -172     82               0  2009-10-28   \n4       16-24 ft.             16    -68    148               0  2009-10-28   \n\n   htm  vtm     season_type  scoremargin_before_shot  \n0  GSW  HOU  Regular Season                      2.0  \n1  GSW  HOU  Regular Season                      0.0  \n2  GSW  HOU  Regular Season                     -4.0  \n3  GSW  HOU  Regular Season                     -4.0  \n4  GSW  HOU  Regular Season                      0.0  "
          },
          "execution_count": 248,
          "metadata": {},
          "output_type": "execute_result"
        }
      ],
      "source": [
        "df1.head()"
      ]
    },
    {
      "cell_type": "code",
      "execution_count": 249,
      "metadata": {},
      "outputs": [
        {
          "data": {
            "text/plain": "period                       int64\nminutes_remaining            int64\nseconds_remaining            int64\naction_type                 object\nshot_type                   object\nshot_zone_basic             object\nshot_zone_area              object\nshot_zone_range             object\nshot_distance                int64\nloc_x                        int64\nloc_y                        int64\nshot_made_flag               int64\ngame_date                   object\nhtm                         object\nvtm                         object\nseason_type                 object\nscoremargin_before_shot    float64\ndtype: object"
          },
          "execution_count": 249,
          "metadata": {},
          "output_type": "execute_result"
        }
      ],
      "source": [
        "df1.dtypes"
      ]
    },
    {
      "cell_type": "code",
      "execution_count": 250,
      "metadata": {},
      "outputs": [
        {
          "data": {
            "text/html": "<div>\n<style scoped>\n    .dataframe tbody tr th:only-of-type {\n        vertical-align: middle;\n    }\n\n    .dataframe tbody tr th {\n        vertical-align: top;\n    }\n\n    .dataframe thead th {\n        text-align: right;\n    }\n</style>\n<table border=\"1\" class=\"dataframe\">\n  <thead>\n    <tr style=\"text-align: right;\">\n      <th></th>\n      <th>period</th>\n      <th>minutes_remaining</th>\n      <th>seconds_remaining</th>\n      <th>action_type</th>\n      <th>shot_type</th>\n      <th>shot_zone_basic</th>\n      <th>shot_zone_area</th>\n      <th>shot_zone_range</th>\n      <th>shot_distance</th>\n      <th>loc_x</th>\n      <th>loc_y</th>\n      <th>shot_made_flag</th>\n      <th>htm</th>\n      <th>vtm</th>\n      <th>season_type</th>\n      <th>scoremargin_before_shot</th>\n    </tr>\n    <tr>\n      <th>game_date</th>\n      <th></th>\n      <th></th>\n      <th></th>\n      <th></th>\n      <th></th>\n      <th></th>\n      <th></th>\n      <th></th>\n      <th></th>\n      <th></th>\n      <th></th>\n      <th></th>\n      <th></th>\n      <th></th>\n      <th></th>\n      <th></th>\n    </tr>\n  </thead>\n  <tbody>\n    <tr>\n      <th>2009-10-28</th>\n      <td>1</td>\n      <td>11</td>\n      <td>25</td>\n      <td>Jump Shot</td>\n      <td>3PT Field Goal</td>\n      <td>Above the Break 3</td>\n      <td>Right Side Center(RC)</td>\n      <td>24+ ft.</td>\n      <td>26</td>\n      <td>99</td>\n      <td>249</td>\n      <td>0</td>\n      <td>GSW</td>\n      <td>HOU</td>\n      <td>Regular Season</td>\n      <td>2.0</td>\n    </tr>\n    <tr>\n      <th>2009-10-28</th>\n      <td>1</td>\n      <td>9</td>\n      <td>31</td>\n      <td>Step Back Jump shot</td>\n      <td>2PT Field Goal</td>\n      <td>Mid-Range</td>\n      <td>Left Side Center(LC)</td>\n      <td>16-24 ft.</td>\n      <td>18</td>\n      <td>-122</td>\n      <td>145</td>\n      <td>1</td>\n      <td>GSW</td>\n      <td>HOU</td>\n      <td>Regular Season</td>\n      <td>0.0</td>\n    </tr>\n    <tr>\n      <th>2009-10-28</th>\n      <td>1</td>\n      <td>6</td>\n      <td>2</td>\n      <td>Jump Shot</td>\n      <td>2PT Field Goal</td>\n      <td>In The Paint (Non-RA)</td>\n      <td>Center(C)</td>\n      <td>8-16 ft.</td>\n      <td>14</td>\n      <td>-60</td>\n      <td>129</td>\n      <td>0</td>\n      <td>GSW</td>\n      <td>HOU</td>\n      <td>Regular Season</td>\n      <td>-4.0</td>\n    </tr>\n    <tr>\n      <th>2009-10-28</th>\n      <td>2</td>\n      <td>9</td>\n      <td>49</td>\n      <td>Jump Shot</td>\n      <td>2PT Field Goal</td>\n      <td>Mid-Range</td>\n      <td>Left Side(L)</td>\n      <td>16-24 ft.</td>\n      <td>19</td>\n      <td>-172</td>\n      <td>82</td>\n      <td>0</td>\n      <td>GSW</td>\n      <td>HOU</td>\n      <td>Regular Season</td>\n      <td>-4.0</td>\n    </tr>\n    <tr>\n      <th>2009-10-28</th>\n      <td>2</td>\n      <td>2</td>\n      <td>19</td>\n      <td>Jump Shot</td>\n      <td>2PT Field Goal</td>\n      <td>Mid-Range</td>\n      <td>Left Side Center(LC)</td>\n      <td>16-24 ft.</td>\n      <td>16</td>\n      <td>-68</td>\n      <td>148</td>\n      <td>0</td>\n      <td>GSW</td>\n      <td>HOU</td>\n      <td>Regular Season</td>\n      <td>0.0</td>\n    </tr>\n  </tbody>\n</table>\n</div>",
            "text/plain": "            period  minutes_remaining  seconds_remaining          action_type  \\\ngame_date                                                                       \n2009-10-28       1                 11                 25            Jump Shot   \n2009-10-28       1                  9                 31  Step Back Jump shot   \n2009-10-28       1                  6                  2            Jump Shot   \n2009-10-28       2                  9                 49            Jump Shot   \n2009-10-28       2                  2                 19            Jump Shot   \n\n                 shot_type        shot_zone_basic         shot_zone_area  \\\ngame_date                                                                  \n2009-10-28  3PT Field Goal      Above the Break 3  Right Side Center(RC)   \n2009-10-28  2PT Field Goal              Mid-Range   Left Side Center(LC)   \n2009-10-28  2PT Field Goal  In The Paint (Non-RA)              Center(C)   \n2009-10-28  2PT Field Goal              Mid-Range           Left Side(L)   \n2009-10-28  2PT Field Goal              Mid-Range   Left Side Center(LC)   \n\n           shot_zone_range  shot_distance  loc_x  loc_y  shot_made_flag  htm  \\\ngame_date                                                                      \n2009-10-28         24+ ft.             26     99    249               0  GSW   \n2009-10-28       16-24 ft.             18   -122    145               1  GSW   \n2009-10-28        8-16 ft.             14    -60    129               0  GSW   \n2009-10-28       16-24 ft.             19   -172     82               0  GSW   \n2009-10-28       16-24 ft.             16    -68    148               0  GSW   \n\n            vtm     season_type  scoremargin_before_shot  \ngame_date                                                 \n2009-10-28  HOU  Regular Season                      2.0  \n2009-10-28  HOU  Regular Season                      0.0  \n2009-10-28  HOU  Regular Season                     -4.0  \n2009-10-28  HOU  Regular Season                     -4.0  \n2009-10-28  HOU  Regular Season                      0.0  "
          },
          "execution_count": 250,
          "metadata": {},
          "output_type": "execute_result"
        }
      ],
      "source": [
        "import pandas as pd\n",
        "df1['game_date'] = pd.to_datetime(df1['game_date'])\n",
        "df1 = df1.set_index('game_date')\n",
        "df1 = df1.sort_index()\n",
        "df1.head()"
      ]
    },
    {
      "cell_type": "code",
      "execution_count": 251,
      "metadata": {},
      "outputs": [],
      "source": [
        "target = 'shot_made_flag'"
      ]
    },
    {
      "cell_type": "markdown",
      "metadata": {
        "colab_type": "text",
        "id": "Dz2QHBiVy_Br"
      },
      "source": [
        "## 2. Hold out your test set.\n",
        "\n",
        ">Use the 2018-19 season to test. NBA seasons begin in October and end in June. You'll know you've split the data correctly when your test set has 1,709 observations."
      ]
    },
    {
      "cell_type": "code",
      "execution_count": 252,
      "metadata": {},
      "outputs": [
        {
          "data": {
            "text/plain": "((11081, 16), (1168, 16), (1709, 16))"
          },
          "execution_count": 252,
          "metadata": {},
          "output_type": "execute_result"
        }
      ],
      "source": [
        "train = df1['2009-10-28':'2017-06-30']\n",
        "val = df1['2017-10-15':'2018-06-30']\n",
        "test = df1['2018-10-15':]\n",
        "train.shape, val.shape, test.shape"
      ]
    },
    {
      "cell_type": "code",
      "execution_count": 253,
      "metadata": {},
      "outputs": [],
      "source": [
        "train_features = train.drop(columns=[target])\n",
        "\n",
        "numeric_features = train_features.select_dtypes(include='number').columns.tolist()\n",
        "\n",
        "cardinality = train_features.select_dtypes(exclude='number').nunique()\n",
        "\n",
        "categorical_features = cardinality[cardinality <= 50].index.tolist()\n",
        "\n",
        "features = numeric_features + categorical_features"
      ]
    },
    {
      "cell_type": "code",
      "execution_count": 254,
      "metadata": {},
      "outputs": [],
      "source": [
        "x_train = train[features]\n",
        "y_train = train[target]\n",
        "x_val = val[features]\n",
        "y_val = val[target]\n",
        "x_test = test[features]\n",
        "y_pred = test[target]"
      ]
    },
    {
      "cell_type": "markdown",
      "metadata": {
        "colab_type": "text",
        "id": "P9Nihzk6y_CF"
      },
      "source": [
        "## 3. Engineer new feature.\n",
        "\n",
        ">Engineer at least **1** new feature, from this list, or your own idea.\n",
        ">\n",
        ">- **Homecourt Advantage**: Is the home team (`htm`) the Golden State Warriors (`GSW`) ?\n",
        ">- **Opponent**: Who is the other team playing the Golden State Warriors?\n",
        ">- **Seconds remaining in the period**: Combine minutes remaining with seconds remaining, to get the total number of seconds remaining in the period.\n",
        ">- **Seconds remaining in the game**: Combine period, and seconds remaining in the period, to get the total number of seconds remaining in the game. A basketball game has 4 periods, each 12 minutes long.\n",
        ">- **Made previous shot**: Was Steph Curry's previous shot successful?\n",
        "\n",
        "    "
      ]
    },
    {
      "cell_type": "code",
      "execution_count": 255,
      "metadata": {},
      "outputs": [
        {
          "name": "stderr",
          "output_type": "stream",
          "text": "C:\\Users\\Matt\\Anaconda3\\lib\\site-packages\\ipykernel_launcher.py:1: SettingWithCopyWarning: \nA value is trying to be set on a copy of a slice from a DataFrame.\nTry using .loc[row_indexer,col_indexer] = value instead\n\nSee the caveats in the documentation: http://pandas.pydata.org/pandas-docs/stable/user_guide/indexing.html#returning-a-view-versus-a-copy\n  \"\"\"Entry point for launching an IPython kernel.\n"
        }
      ],
      "source": [
        "train['home_court_advantage'] = train['htm'] == 'GSW'"
      ]
    },
    {
      "cell_type": "code",
      "execution_count": 256,
      "metadata": {},
      "outputs": [
        {
          "data": {
            "text/plain": "False    5569\nTrue     5512\nName: home_court_advantage, dtype: int64"
          },
          "execution_count": 256,
          "metadata": {},
          "output_type": "execute_result"
        }
      ],
      "source": [
        "train['home_court_advantage'].value_counts()"
      ]
    },
    {
      "cell_type": "code",
      "execution_count": 257,
      "metadata": {},
      "outputs": [
        {
          "data": {
            "text/plain": "0    5842\n1    5239\nName: shot_made_flag, dtype: int64"
          },
          "execution_count": 257,
          "metadata": {},
          "output_type": "execute_result"
        }
      ],
      "source": [
        "train['shot_made_flag'].value_counts()"
      ]
    },
    {
      "cell_type": "code",
      "execution_count": null,
      "metadata": {},
      "outputs": [],
      "source": []
    },
    {
      "cell_type": "markdown",
      "metadata": {
        "colab_type": "text",
        "id": "eLs7pt7NFJLF"
      },
      "source": [
        "## **4. Decide how to validate** your model. \n",
        "\n",
        ">Choose one of the following options. Any of these options are good. You are not graded on which you choose.\n",
        ">\n",
        ">- **Train/validate/test split: train on the 2009-10 season through 2016-17 season, validate with the 2017-18 season.** You'll know you've split the data correctly when your train set has 11,081 observations, and your validation set has 1,168 observations.\n",
        ">- **Train/validate/test split: random 80/20%** train/validate split.\n",
        ">- **Cross-validation** with independent test set. You may use any scikit-learn cross-validation method."
      ]
    },
    {
      "cell_type": "code",
      "execution_count": 258,
      "metadata": {},
      "outputs": [],
      "source": [
        "import category_encoders as ce\n",
        "import numpy as np\n",
        "from sklearn.feature_selection import f_regression, SelectKBest, f_classif\n",
        "from sklearn.impute import SimpleImputer\n",
        "from sklearn.linear_model import Ridge\n",
        "from sklearn.model_selection import cross_val_score\n",
        "from sklearn.pipeline import make_pipeline\n",
        "from sklearn.preprocessing import StandardScaler\n",
        "from sklearn.model_selection import GridSearchCV, RandomizedSearchCV\n",
        "from sklearn.ensemble import RandomForestRegressor"
      ]
    },
    {
      "cell_type": "code",
      "execution_count": 259,
      "metadata": {},
      "outputs": [
        {
          "name": "stderr",
          "output_type": "stream",
          "text": "C:\\Users\\Matt\\Anaconda3\\lib\\site-packages\\sklearn\\model_selection\\_search.py:281: UserWarning: The total space of parameters 28 is smaller than n_iter=100. Running 28 iterations. For exhaustive searches, use GridSearchCV.\n  % (grid_size, self.n_iter, grid_size), UserWarning)\n[Parallel(n_jobs=-1)]: Using backend LokyBackend with 8 concurrent workers.\nFitting 5 folds for each of 28 candidates, totalling 140 fits\n[Parallel(n_jobs=-1)]: Done   2 tasks      | elapsed:    2.9s\n[Parallel(n_jobs=-1)]: Done   9 tasks      | elapsed:    4.1s\n[Parallel(n_jobs=-1)]: Done  16 tasks      | elapsed:    5.3s\n[Parallel(n_jobs=-1)]: Done  25 tasks      | elapsed:    7.3s\n[Parallel(n_jobs=-1)]: Done  34 tasks      | elapsed:    9.6s\n[Parallel(n_jobs=-1)]: Done  45 tasks      | elapsed:   12.8s\n[Parallel(n_jobs=-1)]: Done  56 tasks      | elapsed:   15.5s\n[Parallel(n_jobs=-1)]: Done  69 tasks      | elapsed:   19.5s\n[Parallel(n_jobs=-1)]: Done  82 tasks      | elapsed:   22.5s\n[Parallel(n_jobs=-1)]: Done  97 tasks      | elapsed:   26.6s\n[Parallel(n_jobs=-1)]: Done 112 tasks      | elapsed:   30.3s\n[Parallel(n_jobs=-1)]: Done 140 out of 140 | elapsed:   37.7s remaining:    0.0s\n[Parallel(n_jobs=-1)]: Done 140 out of 140 | elapsed:   37.7s finished\n"
        }
      ],
      "source": [
        "from scipy.stats import randint, uniform\n",
        "from sklearn.ensemble import RandomForestClassifier\n",
        "\n",
        "\n",
        "pipeline = make_pipeline(\n",
        "    ce.OneHotEncoder(), \n",
        "    SimpleImputer(), \n",
        "    StandardScaler(), \n",
        "    SelectKBest(f_classif), \n",
        "    RandomForestClassifier()\n",
        ")\n",
        "\n",
        "param_distributions = {\n",
        "    'simpleimputer__strategy': ['mean', 'median'], \n",
        "    'selectkbest__k': range(1, len(x_train.columns)+1), \n",
        "}\n",
        "\n",
        "# If you're on Colab, decrease n_iter & cv parameters\n",
        "search = RandomizedSearchCV(\n",
        "    pipeline, \n",
        "    param_distributions=param_distributions, \n",
        "    n_iter=100, \n",
        "    cv=5, \n",
        "    verbose=10, \n",
        "    return_train_score=True, \n",
        "    n_jobs=-1\n",
        ")\n",
        "\n",
        "search.fit(x_train, y_train);"
      ]
    },
    {
      "cell_type": "markdown",
      "metadata": {
        "colab_type": "text",
        "id": "oQ2lWlu7JPRt"
      },
      "source": [
        "## 5. Use a scikit-learn pipeline to encode categoricals and fit a Decision Tree or Random Forest model."
      ]
    },
    {
      "cell_type": "code",
      "execution_count": 0,
      "metadata": {
        "colab": {},
        "colab_type": "code",
        "id": "X2S8mUuJy_CB"
      },
      "outputs": [],
      "source": []
    },
    {
      "cell_type": "markdown",
      "metadata": {
        "colab_type": "text",
        "id": "8kJXxFpty_CH"
      },
      "source": [
        "## 6.Get your model's validation accuracy\n",
        "\n",
        "> (Multiple times if you try multiple iterations.)"
      ]
    },
    {
      "cell_type": "code",
      "execution_count": 260,
      "metadata": {},
      "outputs": [
        {
          "name": "stdout",
          "output_type": "stream",
          "text": "Best hyperparameters {'simpleimputer__strategy': 'mean', 'selectkbest__k': 1}\nCross-validation MAE -0.5723316626201538\nValidation Accuracy 0.5873287671232876\n"
        }
      ],
      "source": [
        "print('Best hyperparameters', search.best_params_)\n",
        "print('Cross-validation MAE', -search.best_score_)\n",
        "pipeline = search.best_estimator_\n",
        "print('Validation Accuracy', pipeline.score(x_val, y_val))"
      ]
    },
    {
      "cell_type": "markdown",
      "metadata": {
        "colab_type": "text",
        "id": "YvyYY9tfy_CL"
      },
      "source": [
        "## 7. Get your model's test accuracy\n",
        "\n",
        "> (One time, at the end.)"
      ]
    },
    {
      "cell_type": "code",
      "execution_count": 261,
      "metadata": {},
      "outputs": [
        {
          "name": "stdout",
          "output_type": "stream",
          "text": "Validation Accuracy 0.5751901696898771\n"
        }
      ],
      "source": [
        "print('Validation Accuracy', pipeline.score(x_test, y_pred))"
      ]
    },
    {
      "cell_type": "markdown",
      "metadata": {
        "colab_type": "text",
        "id": "xGL5stLvJCn1"
      },
      "source": [
        "## 8. Given a confusion matrix, calculate accuracy, precision, and recall.\n",
        "\n",
        "Imagine this is the confusion matrix for a binary classification model. Use the confusion matrix to calculate the model's accuracy, precision, and recall.\n",
        "\n",
        "<table>\n",
        "  <tr>\n",
        "    <td colspan=\"2\" rowspan=\"2\"></td>\n",
        "    <td colspan=\"2\">Predicted</td>\n",
        "  </tr>\n",
        "  <tr>\n",
        "    <td>Negative</td>\n",
        "    <td>Positive</td>\n",
        "  </tr>\n",
        "  <tr>\n",
        "    <td rowspan=\"2\">Actual</td>\n",
        "    <td>Negative</td>\n",
        "    <td style=\"border: solid\">85</td>\n",
        "    <td style=\"border: solid\">58</td>\n",
        "  </tr>\n",
        "  <tr>\n",
        "    <td>Positive</td>\n",
        "    <td style=\"border: solid\">8</td>\n",
        "    <td style=\"border: solid\"> 36</td>\n",
        "  </tr>\n",
        "</table>"
      ]
    },
    {
      "cell_type": "markdown",
      "metadata": {
        "colab_type": "text",
        "id": "nEvt7NkUJNao"
      },
      "source": [
        "### Calculate accuracy "
      ]
    },
    {
      "cell_type": "code",
      "execution_count": 277,
      "metadata": {},
      "outputs": [
        {
          "name": "stdout",
          "output_type": "stream",
          "text": "Our accuracy in the model is equal to 0.6470588235294118\n"
        }
      ],
      "source": [
        "total = 85+58+8+36\n",
        "total_correct = 85+36\n",
        "print('Our accuracy in the model is equal to', total_correct/total)"
      ]
    },
    {
      "cell_type": "markdown",
      "metadata": {
        "colab_type": "text",
        "id": "XjHTmk8sJO4v"
      },
      "source": [
        "### Calculate precision"
      ]
    },
    {
      "cell_type": "code",
      "execution_count": 275,
      "metadata": {},
      "outputs": [
        {
          "name": "stdout",
          "output_type": "stream",
          "text": "Our precision in the model is equal to 0.8181818181818182\n"
        }
      ],
      "source": [
        "correct_predictions_made_shots = 36\n",
        "total_made_shots = 8+36\n",
        "print('Our precision in the model is equal to', correct_predictions_made_shots/total_made_shots)"
      ]
    },
    {
      "cell_type": "markdown",
      "metadata": {
        "colab_type": "text",
        "id": "pFug3ZKaJQ7A"
      },
      "source": [
        "### Calculate recall"
      ]
    },
    {
      "cell_type": "code",
      "execution_count": 276,
      "metadata": {},
      "outputs": [
        {
          "name": "stdout",
          "output_type": "stream",
          "text": "Our recall in our model is equal to 0.5944055944055944\n"
        }
      ],
      "source": [
        "correct_predictions_missed = 85\n",
        "total_missed_shots = 85+58\n",
        "print('Our recall in our model is equal to', correct_predictions_missed / total_missed_shots)"
      ]
    }
  ]
}